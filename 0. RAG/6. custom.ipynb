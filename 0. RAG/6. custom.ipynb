{
 "cells": [
  {
   "cell_type": "code",
   "execution_count": 30,
   "id": "c7e4c5fe",
   "metadata": {},
   "outputs": [],
   "source": [
    "# ------------------------------------------------------------\n",
    "# 1️⃣ 문서 로드 및 분할\n",
    "# ------------------------------------------------------------\n",
    "from langchain_community.document_loaders import Docx2txtLoader\n",
    "from langchain_text_splitters import RecursiveCharacterTextSplitter\n",
    "\n",
    "# Word(docx) 문서를 읽어오는 로더\n",
    "loader = Docx2txtLoader(\"./tax_with_markdown.docx\")\n",
    "\n",
    "# 긴 문서를 LLM이 다루기 쉽도록 chunk로 쪼갠다.\n",
    "text_splitter = RecursiveCharacterTextSplitter(\n",
    "    chunk_size=1500,   # 한 조각(청크) 최대 길이(문자 기반; 토큰 유사)\n",
    "    chunk_overlap=200, # 앞/뒤 청크끼리 겹쳐줄 길이 (문맥 보존)\n",
    ")\n",
    "\n",
    "# load_and_split로 바로 쪼개진 Document 리스트를 얻는다.\n",
    "document_list = loader.load_and_split(text_splitter=text_splitter)"
   ]
  },
  {
   "cell_type": "code",
   "execution_count": 31,
   "id": "7f710a26",
   "metadata": {},
   "outputs": [
    {
     "data": {
      "text/plain": [
       "Document(metadata={'source': './tax_with_markdown.docx', 'text': '제55조(세율) ①거주자의 종합소득에 대한 소득세는 해당 연도의 종합소득과세표준에 다음의 세율을 적용하여 계산한 금액(이하 “종합소득산출세액”이라 한다)을 그 세액으로 한다. <개정 2014. 1. 1., 2016. 12. 20., 2017. 12. 19., 2020. 12. 29., 2022. 12. 31.>\\n\\n| 종합소득 과세표준          | 세율                                         |\\n\\n|-------------------|--------------------------------------------|\\n\\n| 1,400만원 이하     | 과세표준의 6퍼센트                             |\\n\\n| 1,400만원 초과     5,000만원 이하     | 84만원 + (1,400만원을 초과하는 금액의 15퍼센트)  |\\n\\n| 5,000만원 초과   8,800만원 이하     | 624만원 + (5,000만원을 초과하는 금액의 24퍼센트) |\\n\\n| 8,800만원 초과 1억5천만원 이하    | 3,706만원 + (8,800만원을 초과하는 금액의 35퍼센트)|\\n\\n| 1억5천만원 초과 3억원 이하         | 3,706만원 + (1억5천만원을 초과하는 금액의 38퍼센트)|\\n\\n| 3억원 초과    5억원 이하         | 9,406만원 + (3억원을 초과하는 금액의 38퍼센트)   |\\n\\n| 5억원 초과      10억원 이하        | 1억 7,406만원 + (5억원을 초과하는 금액의 42퍼센트)|\\n\\n| 10억원 초과        | 3억 8,406만원 + (10억원을 초과하는 금액의 45퍼센트)|\\n\\n\\n\\n\\n\\n② 거주자의 퇴직소득에 대한 소득세는 다음 각 호의 순서에 따라 계산한 금액(이하 “퇴직소득 산출세액”이라 한다)으로 한다.<개정 2013. 1. 1., 2014. 12. 23.>\\n\\n1. 해당 과세기간의 퇴직소득과세표준에 제1항의 세율을 적용하여 계산한 금액\\n\\n2. 제1호의 금액을 12로 나눈 금액에 근속연수를 곱한 금액\\n\\n3. 삭제<2014. 12. 23.>\\n\\n[전문개정 2009. 12. 31.]\\n\\n\\n\\n제2관 세액공제 <개정 2009. 12. 31.>\\n\\n\\n\\n제56조(배당세액공제) ① 거주자의 종합소득금액에 제17조제3항 각 호 외의 부분 단서가 적용되는 배당소득금액이 합산되어 있는 경우에는 같은 항 각 호 외의 부분 단서에 따라 해당 과세기간의 총수입금액에 더한 금액에 해당하는 금액을 종합소득 산출세액에서 공제한다. <개정 2009. 12. 31.>\\n\\n② 제1항에 따른 공제를 “배당세액공제”라 한다.<개정 2009. 12. 31.>\\n\\n③ 삭제<2003. 12. 30.>\\n\\n④ 제1항을 적용할 때 배당세액공제의 대상이 되는 배당소득금액은 제14조제2항의 종합소득과세표준에 포함된 배당소득금액으로서 이자소득등의 종합과세기준금액을 초과하는 것으로 한다.<개정 2009. 12. 31.>\\n\\n⑤ 삭제<2006. 12. 30.>'}, page_content='제55조(세율) ①거주자의 종합소득에 대한 소득세는 해당 연도의 종합소득과세표준에 다음의 세율을 적용하여 계산한 금액(이하 “종합소득산출세액”이라 한다)을 그 세액으로 한다. <개정 2014. 1. 1., 2016. 12. 20., 2017. 12. 19., 2020. 12. 29., 2022. 12. 31.>\\n\\n| 종합소득 과세표준          | 세율                                         |\\n\\n|-------------------|--------------------------------------------|\\n\\n| 1,400만원 이하     | 과세표준의 6퍼센트                             |\\n\\n| 1,400만원 초과     5,000만원 이하     | 84만원 + (1,400만원을 초과하는 금액의 15퍼센트)  |\\n\\n| 5,000만원 초과   8,800만원 이하     | 624만원 + (5,000만원을 초과하는 금액의 24퍼센트) |\\n\\n| 8,800만원 초과 1억5천만원 이하    | 3,706만원 + (8,800만원을 초과하는 금액의 35퍼센트)|\\n\\n| 1억5천만원 초과 3억원 이하         | 3,706만원 + (1억5천만원을 초과하는 금액의 38퍼센트)|\\n\\n| 3억원 초과    5억원 이하         | 9,406만원 + (3억원을 초과하는 금액의 38퍼센트)   |\\n\\n| 5억원 초과      10억원 이하        | 1억 7,406만원 + (5억원을 초과하는 금액의 42퍼센트)|\\n\\n| 10억원 초과        | 3억 8,406만원 + (10억원을 초과하는 금액의 45퍼센트)|\\n\\n\\n\\n\\n\\n② 거주자의 퇴직소득에 대한 소득세는 다음 각 호의 순서에 따라 계산한 금액(이하 “퇴직소득 산출세액”이라 한다)으로 한다.<개정 2013. 1. 1., 2014. 12. 23.>\\n\\n1. 해당 과세기간의 퇴직소득과세표준에 제1항의 세율을 적용하여 계산한 금액\\n\\n2. 제1호의 금액을 12로 나눈 금액에 근속연수를 곱한 금액\\n\\n3. 삭제<2014. 12. 23.>\\n\\n[전문개정 2009. 12. 31.]\\n\\n\\n\\n제2관 세액공제 <개정 2009. 12. 31.>\\n\\n\\n\\n제56조(배당세액공제) ① 거주자의 종합소득금액에 제17조제3항 각 호 외의 부분 단서가 적용되는 배당소득금액이 합산되어 있는 경우에는 같은 항 각 호 외의 부분 단서에 따라 해당 과세기간의 총수입금액에 더한 금액에 해당하는 금액을 종합소득 산출세액에서 공제한다. <개정 2009. 12. 31.>\\n\\n② 제1항에 따른 공제를 “배당세액공제”라 한다.<개정 2009. 12. 31.>\\n\\n③ 삭제<2003. 12. 30.>\\n\\n④ 제1항을 적용할 때 배당세액공제의 대상이 되는 배당소득금액은 제14조제2항의 종합소득과세표준에 포함된 배당소득금액으로서 이자소득등의 종합과세기준금액을 초과하는 것으로 한다.<개정 2009. 12. 31.>\\n\\n⑤ 삭제<2006. 12. 30.>')"
      ]
     },
     "execution_count": 31,
     "metadata": {},
     "output_type": "execute_result"
    }
   ],
   "source": [
    "# ------------------------------------------------------------\n",
    "# 2️⃣ 임베딩 & Pinecone에 벡터로 저장\n",
    "# ------------------------------------------------------------\n",
    "import os\n",
    "from dotenv import load_dotenv\n",
    "from langchain_openai import OpenAIEmbeddings\n",
    "from pinecone import Pinecone\n",
    "from langchain_community.vectorstores import Pinecone as PineconeVectorStore\n",
    "\n",
    "load_dotenv()  # .env에서 OPENAI_API_KEY, PINECONE_API_KEY 읽어옴\n",
    "\n",
    "# 텍스트 → 벡터로 바꿔줄 임베딩 모델\n",
    "embedding = OpenAIEmbeddings(model=\"text-embedding-3-large\")\n",
    "\n",
    "# Pinecone 초기화\n",
    "index_name = \"tax-index\"\n",
    "pc = Pinecone(api_key=os.environ.get(\"PINECONE_API_KEY\"))\n",
    "\n",
    "# 문서들을 벡터화해서 Pinecone 인덱스에 넣는다.\n",
    "# 주의: from_documents()의 첫 번째 파라미터는 documents= 여야 한다.\n",
    "database = PineconeVectorStore.from_documents(\n",
    "    documents=document_list,   # ✅ 정확한 이름\n",
    "    embedding=embedding,\n",
    "    index_name=index_name,\n",
    ")\n",
    "\n",
    "document_list[52]"
   ]
  },
  {
   "cell_type": "code",
   "execution_count": 50,
   "id": "edc624d4",
   "metadata": {},
   "outputs": [],
   "source": [
    "# ------------------------------------------------------------\n",
    "# 3️⃣ 질문 & 유사 문서 검색 (retrieval)\n",
    "# ------------------------------------------------------------\n",
    "query = \"연봉 5천만원인 직장인의 소득세는 얼마인가요?\"\n",
    "\n",
    "# # 질문과 가장 가까운 문서 chunk k개를 벡터DB에서 가져온다.\n",
    "# retrieved_docs = database.similarity_search(query, k=3)\n",
    "\n",
    "# # LLM이 이해할 수 있도록, 문서 내용만 꺼내 하나의 큰 문자열로 합친다.\n",
    "# context_text = \"\\n\\n\".join([doc.page_content for doc in retrieved_docs])\n",
    "\n",
    "# retrieved_docs"
   ]
  },
  {
   "cell_type": "code",
   "execution_count": null,
   "id": "c373876f",
   "metadata": {},
   "outputs": [],
   "source": [
    "from langchain_core.output_parsers import StrOutputParser\n",
    "from langchain_core.prompts import ChatPromptTemplate\n",
    "from langchain_openai import ChatOpenAI\n",
    "\n",
    "llm = ChatOpenAI(model=\"gpt-4o\")\n",
    "\n",
    "dictionary = {\n",
    "    \"직장인\": \"거주자\",\n",
    "    \"근로자\": \"거주자\",\n",
    "    \"월급\": \"근로소득\",\n",
    "    \"세금\": \"소득세\"\n",
    "}\n",
    "\n",
    "# ✅ f-string ❌  그냥 문자열로 유지해야 LangChain이 {변수}를 나중에 채움\n",
    "prompt = ChatPromptTemplate.from_template(\"\"\"\n",
    "사용자의 질문을 보고, 우리의 사전을 참고해서 사용자의 질문을 변경해주세요.\n",
    "만약 변경할 필요가 없다고 판단된다면, 사용자의 질문을 변경하지 않아도 됩니다.\n",
    "그런 경우에는 질문만 리턴해주세요\n",
    "\n",
    "사전: {dictionary}\n",
    "질문: {question}\n",
    "\"\"\")\n",
    "\n",
    "dictionary_chain = prompt | llm | StrOutputParser()\n",
    "\n",
    "new_query = dictionary_chain.invoke({\n",
    "    \"dictionary\": dictionary,\n",
    "    \"question\": query\n",
    "})\n"
   ]
  },
  {
   "cell_type": "code",
   "execution_count": 63,
   "id": "9c15be0e",
   "metadata": {},
   "outputs": [
    {
     "name": "stdout",
     "output_type": "stream",
     "text": [
      "🧩 교정된 질문: 연봉 5천만원인 거주자의 소득세는 얼마인가요?\n"
     ]
    }
   ],
   "source": [
    "print(\"🧩 교정된 질문:\", new_query)"
   ]
  },
  {
   "cell_type": "code",
   "execution_count": 64,
   "id": "5fb18188",
   "metadata": {},
   "outputs": [],
   "source": [
    "# 질문과 가장 가까운 문서 chunk k개를 벡터DB에서 가져온다.\n",
    "retrieved_docs = database.similarity_search(new_query, k=3)\n",
    "\n",
    "# LLM이 이해할 수 있도록, 문서 내용만 꺼내 하나의 큰 문자열로 합친다.\n",
    "context_text = \"\\n\\n\".join([doc.page_content for doc in retrieved_docs])"
   ]
  },
  {
   "cell_type": "code",
   "execution_count": 65,
   "id": "106e0027",
   "metadata": {},
   "outputs": [
    {
     "data": {
      "text/plain": [
       "PromptTemplate(input_variables=['context', 'question'], input_types={}, partial_variables={}, template='\\n    You are a helpful assistant that can answer questions about Korean tax law.\\n    Use the following context to answer **accurately and concisely in Korean language**.\\n\\n    Context:\\n    {context}\\n\\n    Question:\\n    {question}\\n\\n    Answer:\\n    ')\n",
       "| ChatOpenAI(client=<openai.resources.chat.completions.completions.Completions object at 0x3665bd0f0>, async_client=<openai.resources.chat.completions.completions.AsyncCompletions object at 0x365e16f80>, root_client=<openai.OpenAI object at 0x3665bcbb0>, root_async_client=<openai.AsyncOpenAI object at 0x3665bcca0>, model_name='gpt-4o', model_kwargs={}, openai_api_key=SecretStr('**********'), stream_usage=True)"
      ]
     },
     "execution_count": 65,
     "metadata": {},
     "output_type": "execute_result"
    }
   ],
   "source": [
    "# ------------------------------------------------------------\n",
    "# 4️⃣ 프프롬프트 템플릿 + LLM → \"체인\" 만들기\n",
    "# ------------------------------------------------------------\n",
    "from langchain_openai import ChatOpenAI\n",
    "from langchain_core.prompts import PromptTemplate\n",
    "\n",
    "# 실제로 답변을 생성할 LLM (대화형)\n",
    "llm = ChatOpenAI(model=\"gpt-4o\")\n",
    "\n",
    "# PromptTemplate: LLM에 보낼 \"서식\"을 미리 만들어 둔다.\n",
    "# {context}, {question} 자리에 나중에 실제 값이 들어감.\n",
    "rag_prompt_template = PromptTemplate(\n",
    "    template=\"\"\"\n",
    "    You are a helpful assistant that can answer questions about Korean tax law.\n",
    "    Use the following context to answer **accurately and concisely in Korean language**.\n",
    "\n",
    "    Context:\n",
    "    {context}\n",
    "\n",
    "    Question:\n",
    "    {question}\n",
    "\n",
    "    Answer:\n",
    "    \"\"\",\n",
    "    input_variables=[\"context\", \"question\"]\n",
    ")\n",
    "\n",
    "# ---- 체인(chain)이 뭐냐? ----\n",
    "# rag_prompt_template | llm  는 “프롬프트를 만든 다음 그 결과를 LLM에 바로 넣어라”는 **연결**을 뜻함.\n",
    "# 즉, PromptTemplate의 출력(완성된 문자열) → LLM의 입력 으로 곧장 넘어가는 파이프.\n",
    "rag_chain = rag_prompt_template | llm\n",
    "rag_chain"
   ]
  },
  {
   "cell_type": "code",
   "execution_count": 68,
   "id": "6bb4f86e",
   "metadata": {},
   "outputs": [
    {
     "data": {
      "text/plain": [
       "AIMessage(content='연봉 5,000만원인 직장인의 소득세는 다음과 같이 계산할 수 있습니다.\\n\\n1. 연봉 5,000만원은 제55조의 종합소득 과세표준에 따라 \"1,400만원 초과 5,000만원 이하\" 구간에 해당됩니다.\\n2. 이 구간의 세율은 \"84만원 + (1,400만원을 초과하는 금액의 15퍼센트)\"입니다.\\n3. 1,400만원 초과 금액은 5,000만원 - 1,400만원 = 3,600만원입니다.\\n4. 3,600만원의 15퍼센트는 3,600만원 × 0.15 = 540만원입니다.\\n5. 따라서 종합소득산출세액은 84만원 + 540만원 = 624만원입니다.\\n\\n따라서, 연봉 5,000만원인 직장인의 소득세는 624만원입니다.', additional_kwargs={'refusal': None}, response_metadata={'token_usage': {'completion_tokens': 210, 'prompt_tokens': 2682, 'total_tokens': 2892, 'completion_tokens_details': {'accepted_prediction_tokens': 0, 'audio_tokens': 0, 'reasoning_tokens': 0, 'rejected_prediction_tokens': 0}, 'prompt_tokens_details': {'audio_tokens': 0, 'cached_tokens': 2048}}, 'model_provider': 'openai', 'model_name': 'gpt-4o-2024-08-06', 'system_fingerprint': 'fp_65564d8ba5', 'id': 'chatcmpl-CWNFlGOALkg4XNnC3i947XWWXKHEa', 'service_tier': 'default', 'finish_reason': 'stop', 'logprobs': None}, id='lc_run--753b5051-6a1a-4721-8b4b-0bb83734cbfc-0', usage_metadata={'input_tokens': 2682, 'output_tokens': 210, 'total_tokens': 2892, 'input_token_details': {'audio': 0, 'cache_read': 2048}, 'output_token_details': {'audio': 0, 'reasoning': 0}})"
      ]
     },
     "execution_count": 68,
     "metadata": {},
     "output_type": "execute_result"
    }
   ],
   "source": [
    "# ------------------------------------------------------------\n",
    "# 5️⃣ 체인 실행: invoke\n",
    "# ------------------------------------------------------------\n",
    "# invoke는 “이 체인을 여기 입력값으로 한 번 실행해”라는 의미.\n",
    "# dict를 넣으면 PromptTemplate가 {context}, {question}를 채우고,\n",
    "# 그 결과 문자열을 LLM이 받아 답변을 생성한다.\n",
    "ai_message = rag_chain.invoke({\n",
    "    \"context\": context_text,\n",
    "    \"question\": query\n",
    "})\n",
    "ai_message"
   ]
  },
  {
   "cell_type": "code",
   "execution_count": 69,
   "id": "12a5c28f",
   "metadata": {},
   "outputs": [
    {
     "name": "stdout",
     "output_type": "stream",
     "text": [
      "🧩 질문:\n",
      "연봉 5천만원인 직장인의 소득세는 얼마인가요?\n",
      "\n",
      "📚 검색된 컨텍스트:\n",
      "제55조(세율) ①거주자의 종합소득에 대한 소득세는 해당 연도의 종합소득과세표준에 다음의 세율을 적용하여 계산한 금액(이하 “종합소득산출세액”이라 한다)을 그 세액으로 한다. <개정 2014. 1. 1., 2016. 12. 20., 2017. 12. 19., 2020. 12. 29., 2022. 12. 31.>| 종합소득 과세표준          | 세율                                         ||-------------------|--------------------------------------------|| 1,400만원 이하     | 과세표준의 6퍼센트                             || 1,400만원 초과     5,000만원 이하     | 84만원 + (1,400만원을 초과하는 금액의 15퍼센트)  || 5,000만원 초과   8,800만원 이하     | 624만원 + (5,000만원을 초과하는 금액의 24퍼센트) || 8,800만원 초과 1억5천만원 이하    | 3,706만원 + (8,800만원을 초과하는 금액의 35퍼센트)|| 1억5천만원 초과 3억원 이하         | 3,706만원 + (1억5천만원을 초과하는 금액의 38퍼센트)|| 3억원 초과    5억원 이하         | 9,406만원 + (3억원을 초과하는 금액의 38퍼센트)   || 5억원 초과      10억원 이하        | 1억 7,406만원 + (5억원을 초과하는 금액의 42퍼센트)|| 10억원 초과        | 3억 8,406만원 + (10억원을 초과하는 금액의 45퍼센트)|② 거주자의 퇴직소득에 대한 소득세는 다음 각 호의 순서에 따라 계산한 금액(이하 “퇴직소득 산출세액”이라 한다)으로 한다.<개정 2013. 1. 1., 2014. 12. 23.>1. 해당 과세기간의 퇴직소득과세표준에 제1항의 세율을 적용하여 계산한 금액2. 제1호의 금액을 12로 나눈 금액에 근속연수를 곱한 금액3. 삭제<2014. 12. 23.>[전문개정 2009. 12. 31.]제2관 세액공제 <개정 2009. 12. 31.>제56조(배당세액공제) ① 거주자의 종합소득금액에 제17조제3항 각 호 외의 부분 단서가 적용되는 배당소득금액이 합산되어 있는 경우에는 같은 항 각 호 외의 부분 단서에 따라 해당 과세기간의 총수입금액에 더한 금액에 해당하는 금액을 종합소득 산출세액에서  ...\n",
      "(생략)\n",
      "\n",
      "💬 답변:\n",
      "연봉 5,000만원인 직장인의 소득세는 다음과 같이 계산할 수 있습니다.\n",
      "\n",
      "1. 연봉 5,000만원은 제55조의 종합소득 과세표준에 따라 \"1,400만원 초과 5,000만원 이하\" 구간에 해당됩니다.\n",
      "2. 이 구간의 세율은 \"84만원 + (1,400만원을 초과하는 금액의 15퍼센트)\"입니다.\n",
      "3. 1,400만원 초과 금액은 5,000만원 - 1,400만원 = 3,600만원입니다.\n",
      "4. 3,600만원의 15퍼센트는 3,600만원 × 0.15 = 540만원입니다.\n",
      "5. 따라서 종합소득산출세액은 84만원 + 540만원 = 624만원입니다.\n",
      "\n",
      "따라서, 연봉 5,000만원인 직장인의 소득세는 624만원입니다.\n"
     ]
    }
   ],
   "source": [
    "# ------------------------------------------------------------\n",
    "# 6) 결과 출력 (질문/컨텍스트/답변)\n",
    "# ------------------------------------------------------------\n",
    "print(\"🧩 질문:\")\n",
    "print(query)\n",
    "\n",
    "print(\"\\n📚 검색된 컨텍스트:\")\n",
    "# 너무 길면 앞부분만 보자. 전부 보고 싶으면 그냥 context_text 출력.\n",
    "print(context_text.replace(\"\\n\", \"\")[:1200], \"...\\n(생략)\")\n",
    "\n",
    "print(\"\\n💬 답변:\")\n",
    "print(ai_message.content)\n",
    "\n",
    "# 참고: retrieved_docs[i].metadata 로 파일 경로, 페이지 등 메타데이터도 볼 수 있음"
   ]
  },
  {
   "cell_type": "markdown",
   "id": "52fccfbe",
   "metadata": {},
   "source": [
    "개념 설명 (체인, invoke를 이해하기 쉽게)\n",
    "1) 체인(chain) = 연결된 단계들\n",
    "“이 단계 결과를 다음 단계 입력으로 자동 전달해줘”\n",
    "LangChain 최신 문법에선 파이프(|) 연산자로 연결해요.\n",
    "rag_prompt_template | llm\n",
    "→ “프롬프트(문자열) 만들어 → LLM에게 바로 줘서 답을 받아라”는 작업 파이프라인.\n",
    "2) invoke = 한 번 실행\n",
    "rag_chain.invoke({...})\n",
    "→ 이 파이프라인을 주어진 입력으로 1회 실행.\n",
    "비유: “빵 반죽(입력)을 넣으면, 체인(파이프라인)이 자동으로 반죽 → 발효 → 굽기 단계를 지나 **완성 빵(출력)**을 내놓는다.”\n",
    "3) 자주 나오는 메서드 3형제\n",
    "invoke(input_dict) : 단건 실행\n",
    "batch([input_dict1, input_dict2, ...]) : 여러 건 일괄 실행\n",
    "ainvoke(input_dict) : 비동기 한 건 실행 (await 필요)"
   ]
  }
 ],
 "metadata": {
  "kernelspec": {
   "display_name": "rng-venv",
   "language": "python",
   "name": "python3"
  },
  "language_info": {
   "codemirror_mode": {
    "name": "ipython",
    "version": 3
   },
   "file_extension": ".py",
   "mimetype": "text/x-python",
   "name": "python",
   "nbconvert_exporter": "python",
   "pygments_lexer": "ipython3",
   "version": "3.10.12"
  }
 },
 "nbformat": 4,
 "nbformat_minor": 5
}
