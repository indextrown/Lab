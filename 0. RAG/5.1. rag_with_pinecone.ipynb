{
 "cells": [
  {
   "cell_type": "markdown",
   "id": "d0555cb1",
   "metadata": {},
   "source": [
    "## pinecone\n",
    "- 크로마와 같은 벡터 데이터베이스\n",
    "- 크로마는 인메모리인 반면 pinecone은 클라우드를 활용한다\n",
    "https://python.langchain.com/docs/integrations/vectorstores/pinecone/\n",
    "https://app.pinecone.io/organizations/-OclQ8NG9cmThk3mA5TA/projects/7e470be4-fdc8-4ba1-93f0-3aade0b3f98b/indexes"
   ]
  },
  {
   "cell_type": "markdown",
   "id": "23a415dc",
   "metadata": {},
   "source": []
  },
  {
   "cell_type": "code",
   "execution_count": 1,
   "id": "2b8783da",
   "metadata": {},
   "outputs": [
    {
     "name": "stdout",
     "output_type": "stream",
     "text": [
      "Requirement already satisfied: pip in /Users/kimdonghyeon/.pyenv/versions/3.10.12/envs/rng-venv/lib/python3.10/site-packages (25.3)\n",
      "Note: you may need to restart the kernel to use updated packages.\n",
      "Note: you may need to restart the kernel to use updated packages.\n"
     ]
    }
   ],
   "source": [
    "%pip install --upgrade pip\n",
    "%pip install -qU langchain langchain-pinecone langchain-openai"
   ]
  },
  {
   "cell_type": "code",
   "execution_count": null,
   "id": "38d8452d",
   "metadata": {},
   "outputs": [],
   "source": [
    "from dotenv import load_dotenv\n",
    "from langchain_openai import OpenAIEmbeddings, ChatOpenAI\n",
    "from langchain_community.vectorstores import Pinecone as PineconeVectorStore\n",
    "from langchain_core.prompts import PromptTemplate, ChatPromptTemplate\n",
    "from langchain_core.output_parsers import StrOutputParser\n",
    "\n",
    "\n",
    "def LLM(user_message):\n",
    "    # 1️⃣ 환경변수 로드 (.env에서 API 키 불러옴)\n",
    "    load_dotenv()\n",
    "\n",
    "    # 2️⃣ 임베딩 모델\n",
    "    embedding = OpenAIEmbeddings(model=\"text-embedding-3-large\")\n",
    "\n",
    "    # 3️⃣ Pinecone 기존 인덱스 불러오기\n",
    "    index_name = \"tax-index\"\n",
    "    database = PineconeVectorStore.from_existing_index(\n",
    "        index_name=index_name,\n",
    "        embedding=embedding\n",
    "    )\n",
    "\n",
    "    # 4️⃣ LLM 초기화\n",
    "    llm = ChatOpenAI(model=\"gpt-4o\")\n",
    "\n",
    "    # 5️⃣ 사용자 단어 → 세무 용어 변환용 사전\n",
    "    dictionary = {\n",
    "        \"직장인\": \"거주자\",\n",
    "        \"근로자\": \"거주자\",\n",
    "        \"월급\": \"근로소득\",\n",
    "        \"세금\": \"소득세\"\n",
    "    }\n",
    "\n",
    "    # 6️⃣ 질문을 변환하기 위한 사전 체인\n",
    "    prompt = ChatPromptTemplate.from_template(\"\"\"\n",
    "    사용자의 질문을 보고, 우리의 사전을 참고해서 사용자의 질문을 변경해주세요.\n",
    "    만약 변경할 필요가 없다고 판단된다면, 사용자의 질문을 변경하지 않아도 됩니다.\n",
    "    그런 경우에는 질문만 리턴해주세요.\n",
    "\n",
    "    사전: {dictionary}\n",
    "    질문: {question}\n",
    "    \"\"\")\n",
    "\n",
    "    dictionary_chain = prompt | llm | StrOutputParser()\n",
    "\n",
    "    # 7️⃣ 변환된 질문 생성\n",
    "    new_query = dictionary_chain.invoke({\n",
    "        \"dictionary\": dictionary,\n",
    "        \"question\": user_message\n",
    "    })\n",
    "\n",
    "    # 8️⃣ 벡터DB에서 관련 문서 검색\n",
    "    retrieved_docs = database.similarity_search(new_query, k=3)\n",
    "\n",
    "    # 9️⃣ 문서 내용 합치기\n",
    "    context_text = \"\\n\\n\".join([doc.page_content for doc in retrieved_docs])\n",
    "\n",
    "    # 🔟 최종 RAG 프롬프트 구성\n",
    "    rag_prompt_template = PromptTemplate(\n",
    "        template=\"\"\"\n",
    "        You are a helpful assistant that can answer questions about Korean tax law.\n",
    "        Use the following context to answer accurately and concisely in Korean.\n",
    "\n",
    "        Context:\n",
    "        {context}\n",
    "\n",
    "        Question:\n",
    "        {question}\n",
    "\n",
    "        Answer:\n",
    "        \"\"\",\n",
    "        input_variables=[\"context\", \"question\"]\n",
    "    )\n",
    "\n",
    "    # 11️⃣ 체인 연결\n",
    "    rag_chain = rag_prompt_template | llm | StrOutputParser()\n",
    "\n",
    "    # 12️⃣ 답변 생성\n",
    "    ai_message = rag_chain.invoke({\n",
    "        \"context\": context_text,\n",
    "        \"question\": new_query\n",
    "    })\n",
    "\n",
    "    return ai_message\n"
   ]
  },
  {
   "cell_type": "code",
   "execution_count": null,
   "id": "c1484920",
   "metadata": {},
   "outputs": [],
   "source": [
    "import os\n",
    "import getpass\n",
    "from pinecone import Pinecone\n",
    "from langchain_community.vectorstores import Pinecone as PineconeVectorStore\n",
    "\n",
    "\n",
    "\n",
    "\n",
    "pinecone_api_key = os.environ.get(\"PINECONE_API_KEY\")\n",
    "pc = Pinecone(api_key=pinecone_api_key)\n",
    "database = PineconeVectorStore.from_documents(\n",
    "    document_list,  # 문서 리스트\n",
    "    embedding,  # 임베딩 모델\n",
    "    index_name=index_name,  # ✅ keyword argument로 전달해야 함!\n",
    ")"
   ]
  },
  {
   "cell_type": "code",
   "execution_count": 27,
   "id": "17552873",
   "metadata": {},
   "outputs": [
    {
     "data": {
      "text/plain": [
       "[Document(metadata={'source': './tax.docx'}, page_content='[전문개정 2018.4.17.]\\n\\n\\n\\n\\n\\n\\n\\n\\n\\n\\n\\n\\n\\n\\n\\n\\n\\n\\n\\n제84조의2(기금운용계획안의 회부 등)\\n\\n\\n\\n\\n\\n① 국회는「국가재정법」제68조제1항에 따라 제출된 기금운용계획안을 회계연도 개시 30일 전까지 심의·확정한다.\\n\\n\\n\\n\\n\\n\\n\\n\\n\\n\\n\\n\\n\\n\\n\\n② 제1항에 따른 기금운용계획안과「국가재정법」제70조제2항에 따른 기금운용계획변경안의 회부 등에 관하여는 제84조 중 예산안 관련 규정을 준용한다.\\n\\n\\n\\n\\n\\n\\n\\n\\n\\n\\n\\n\\n\\n\\n\\n③ 제2항에 따라 상임위원회가 기금운용계획안 등에 대한 예비심사를 하는 경우(제84조제1항에 따라 결산에 대한 예비심사를 하는 경우를 포함한다) 기금을 운용·관리하는 부처의 소관 상임위원회와 기금사업을 수행하는 부처의 소관 상임위원회가 다를 때에는 기금을 운용·관리하는 부처의 소관 상임위원회는 기금사업을 수행하는 부처의 소관 상임위원회로부터 기금사업에 대한 의견을 들어야 한다. 다만, 기금을 운용·관리하는 부처의 소관 상임위원회의 의결일 전날까지 의견을 제시하지 아니할 경우에는 그러하지 아니하다.\\n\\n\\n\\n\\n\\n\\n\\n\\n\\n\\n\\n\\n\\n\\n\\n④ 제3항에 따른 기금사업을 수행하는 부처의 소관 상임위원회는 기금사업에 대한 업무보고를 들은 후 의견을 제시할 수 있다.\\n\\n\\n\\n\\n\\n\\n\\n\\n\\n\\n\\n\\n\\n\\n\\n[전문개정 2018.4.17.]\\n\\n\\n\\n\\n\\n\\n\\n\\n\\n\\n\\n\\n\\n\\n\\n\\n\\n\\n\\n제84조의3(예산안·기금운용계획안 및 결산에 대한 공청회)\\n\\n\\n\\n\\n\\n예산결산특별위원회는 예산안, 기금운용계획안 및 결산에 대하여 공청회를 개최하여야 한다. 다만, 추가경정예산안, 기금운용계획변경안 또는 결산의 경우에는 위원회의 의결로 공청회를 생략할 수 있다.\\n\\n\\n\\n\\n\\n\\n\\n\\n\\n\\n\\n\\n\\n\\n\\n[전문개정 2018.4.17.]\\n\\n\\n\\n\\n\\n\\n\\n\\n\\n\\n\\n\\n\\n\\n\\n\\n\\n\\n\\n제84조의4(임대형 민자사업 한도액안의 회부 등)\\n\\n\\n\\n\\n\\n① 국회는「사회기반시설에 대한 민간투자법」제7조의2제1항에 따라 국회에 제출되는 임대형 민자사업 한도액안을 회계연도 개시 30일 전까지 심의·확정한다.\\n\\n\\n\\n\\n\\n\\n\\n\\n\\n\\n\\n\\n\\n\\n\\n② 제1항에 따른 임대형 민자사업 한도액안의 회부 등에 관하여는 제84조 중 예산안 관련 규정을 준용한다.\\n\\n\\n\\n\\n\\n\\n\\n\\n\\n\\n\\n\\n\\n\\n\\n[전문개정 2018.4.17.]\\n\\n\\n\\n\\n\\n\\n\\n\\n\\n\\n\\n\\n\\n\\n\\n\\n\\n\\n\\n제85조(심사기간)\\n\\n\\n\\n\\n\\n① 의장은 다음 각 호의 어느 하나에 해당하는 경우에는 위원회에 회부하는 안건 또는 회부된 안건에 대하여 심사기간을 지정할 수 있다. 이 경우 제1호 또는 제2호에 해당할 때에는 의장이 각 교섭단체 대표의원과 협의하여 해당 호와 관련된 안건에 대해서만 심사기간을 지정할 수 있다.\\n\\n\\n\\n\\n\\n\\n\\n\\n\\n\\n\\n\\n\\n\\n\\n1. 천재지변의 경우\\n\\n\\n\\n\\n\\n\\n\\n\\n\\n\\n\\n\\n\\n\\n\\n2. 전시·사변 또는 이에 준하는 국가비상사태의 경우\\n\\n\\n\\n\\n\\n\\n\\n\\n\\n\\n\\n\\n\\n\\n\\n3. 의장이 각 교섭단체 대표의원과 합의하는 경우'),\n",
       " Document(metadata={'source': './tax.docx'}, page_content='[전문개정 2018.4.17.]\\n\\n\\n\\n\\n\\n\\n\\n\\n\\n\\n\\n\\n\\n\\n\\n\\n\\n\\n\\n제84조의2(기금운용계획안의 회부 등)\\n\\n\\n\\n\\n\\n① 국회는「국가재정법」제68조제1항에 따라 제출된 기금운용계획안을 회계연도 개시 30일 전까지 심의·확정한다.\\n\\n\\n\\n\\n\\n\\n\\n\\n\\n\\n\\n\\n\\n\\n\\n② 제1항에 따른 기금운용계획안과「국가재정법」제70조제2항에 따른 기금운용계획변경안의 회부 등에 관하여는 제84조 중 예산안 관련 규정을 준용한다.\\n\\n\\n\\n\\n\\n\\n\\n\\n\\n\\n\\n\\n\\n\\n\\n③ 제2항에 따라 상임위원회가 기금운용계획안 등에 대한 예비심사를 하는 경우(제84조제1항에 따라 결산에 대한 예비심사를 하는 경우를 포함한다) 기금을 운용·관리하는 부처의 소관 상임위원회와 기금사업을 수행하는 부처의 소관 상임위원회가 다를 때에는 기금을 운용·관리하는 부처의 소관 상임위원회는 기금사업을 수행하는 부처의 소관 상임위원회로부터 기금사업에 대한 의견을 들어야 한다. 다만, 기금을 운용·관리하는 부처의 소관 상임위원회의 의결일 전날까지 의견을 제시하지 아니할 경우에는 그러하지 아니하다.\\n\\n\\n\\n\\n\\n\\n\\n\\n\\n\\n\\n\\n\\n\\n\\n④ 제3항에 따른 기금사업을 수행하는 부처의 소관 상임위원회는 기금사업에 대한 업무보고를 들은 후 의견을 제시할 수 있다.\\n\\n\\n\\n\\n\\n\\n\\n\\n\\n\\n\\n\\n\\n\\n\\n[전문개정 2018.4.17.]\\n\\n\\n\\n\\n\\n\\n\\n\\n\\n\\n\\n\\n\\n\\n\\n\\n\\n\\n\\n제84조의3(예산안·기금운용계획안 및 결산에 대한 공청회)\\n\\n\\n\\n\\n\\n예산결산특별위원회는 예산안, 기금운용계획안 및 결산에 대하여 공청회를 개최하여야 한다. 다만, 추가경정예산안, 기금운용계획변경안 또는 결산의 경우에는 위원회의 의결로 공청회를 생략할 수 있다.\\n\\n\\n\\n\\n\\n\\n\\n\\n\\n\\n\\n\\n\\n\\n\\n[전문개정 2018.4.17.]\\n\\n\\n\\n\\n\\n\\n\\n\\n\\n\\n\\n\\n\\n\\n\\n\\n\\n\\n\\n제84조의4(임대형 민자사업 한도액안의 회부 등)\\n\\n\\n\\n\\n\\n① 국회는「사회기반시설에 대한 민간투자법」제7조의2제1항에 따라 국회에 제출되는 임대형 민자사업 한도액안을 회계연도 개시 30일 전까지 심의·확정한다.\\n\\n\\n\\n\\n\\n\\n\\n\\n\\n\\n\\n\\n\\n\\n\\n② 제1항에 따른 임대형 민자사업 한도액안의 회부 등에 관하여는 제84조 중 예산안 관련 규정을 준용한다.\\n\\n\\n\\n\\n\\n\\n\\n\\n\\n\\n\\n\\n\\n\\n\\n[전문개정 2018.4.17.]\\n\\n\\n\\n\\n\\n\\n\\n\\n\\n\\n\\n\\n\\n\\n\\n\\n\\n\\n\\n제85조(심사기간)\\n\\n\\n\\n\\n\\n① 의장은 다음 각 호의 어느 하나에 해당하는 경우에는 위원회에 회부하는 안건 또는 회부된 안건에 대하여 심사기간을 지정할 수 있다. 이 경우 제1호 또는 제2호에 해당할 때에는 의장이 각 교섭단체 대표의원과 협의하여 해당 호와 관련된 안건에 대해서만 심사기간을 지정할 수 있다.\\n\\n\\n\\n\\n\\n\\n\\n\\n\\n\\n\\n\\n\\n\\n\\n1. 천재지변의 경우\\n\\n\\n\\n\\n\\n\\n\\n\\n\\n\\n\\n\\n\\n\\n\\n2. 전시·사변 또는 이에 준하는 국가비상사태의 경우\\n\\n\\n\\n\\n\\n\\n\\n\\n\\n\\n\\n\\n\\n\\n\\n3. 의장이 각 교섭단체 대표의원과 합의하는 경우'),\n",
       " Document(metadata={'source': './tax.docx'}, page_content='[전문개정 2018.4.17.]\\n\\n\\n\\n\\n\\n\\n\\n\\n\\n\\n\\n\\n\\n\\n\\n\\n\\n\\n\\n제84조의2(기금운용계획안의 회부 등)\\n\\n\\n\\n\\n\\n① 국회는「국가재정법」제68조제1항에 따라 제출된 기금운용계획안을 회계연도 개시 30일 전까지 심의·확정한다.\\n\\n\\n\\n\\n\\n\\n\\n\\n\\n\\n\\n\\n\\n\\n\\n② 제1항에 따른 기금운용계획안과「국가재정법」제70조제2항에 따른 기금운용계획변경안의 회부 등에 관하여는 제84조 중 예산안 관련 규정을 준용한다.\\n\\n\\n\\n\\n\\n\\n\\n\\n\\n\\n\\n\\n\\n\\n\\n③ 제2항에 따라 상임위원회가 기금운용계획안 등에 대한 예비심사를 하는 경우(제84조제1항에 따라 결산에 대한 예비심사를 하는 경우를 포함한다) 기금을 운용·관리하는 부처의 소관 상임위원회와 기금사업을 수행하는 부처의 소관 상임위원회가 다를 때에는 기금을 운용·관리하는 부처의 소관 상임위원회는 기금사업을 수행하는 부처의 소관 상임위원회로부터 기금사업에 대한 의견을 들어야 한다. 다만, 기금을 운용·관리하는 부처의 소관 상임위원회의 의결일 전날까지 의견을 제시하지 아니할 경우에는 그러하지 아니하다.\\n\\n\\n\\n\\n\\n\\n\\n\\n\\n\\n\\n\\n\\n\\n\\n④ 제3항에 따른 기금사업을 수행하는 부처의 소관 상임위원회는 기금사업에 대한 업무보고를 들은 후 의견을 제시할 수 있다.\\n\\n\\n\\n\\n\\n\\n\\n\\n\\n\\n\\n\\n\\n\\n\\n[전문개정 2018.4.17.]\\n\\n\\n\\n\\n\\n\\n\\n\\n\\n\\n\\n\\n\\n\\n\\n\\n\\n\\n\\n제84조의3(예산안·기금운용계획안 및 결산에 대한 공청회)\\n\\n\\n\\n\\n\\n예산결산특별위원회는 예산안, 기금운용계획안 및 결산에 대하여 공청회를 개최하여야 한다. 다만, 추가경정예산안, 기금운용계획변경안 또는 결산의 경우에는 위원회의 의결로 공청회를 생략할 수 있다.\\n\\n\\n\\n\\n\\n\\n\\n\\n\\n\\n\\n\\n\\n\\n\\n[전문개정 2018.4.17.]\\n\\n\\n\\n\\n\\n\\n\\n\\n\\n\\n\\n\\n\\n\\n\\n\\n\\n\\n\\n제84조의4(임대형 민자사업 한도액안의 회부 등)\\n\\n\\n\\n\\n\\n① 국회는「사회기반시설에 대한 민간투자법」제7조의2제1항에 따라 국회에 제출되는 임대형 민자사업 한도액안을 회계연도 개시 30일 전까지 심의·확정한다.\\n\\n\\n\\n\\n\\n\\n\\n\\n\\n\\n\\n\\n\\n\\n\\n② 제1항에 따른 임대형 민자사업 한도액안의 회부 등에 관하여는 제84조 중 예산안 관련 규정을 준용한다.\\n\\n\\n\\n\\n\\n\\n\\n\\n\\n\\n\\n\\n\\n\\n\\n[전문개정 2018.4.17.]\\n\\n\\n\\n\\n\\n\\n\\n\\n\\n\\n\\n\\n\\n\\n\\n\\n\\n\\n\\n제85조(심사기간)\\n\\n\\n\\n\\n\\n① 의장은 다음 각 호의 어느 하나에 해당하는 경우에는 위원회에 회부하는 안건 또는 회부된 안건에 대하여 심사기간을 지정할 수 있다. 이 경우 제1호 또는 제2호에 해당할 때에는 의장이 각 교섭단체 대표의원과 협의하여 해당 호와 관련된 안건에 대해서만 심사기간을 지정할 수 있다.\\n\\n\\n\\n\\n\\n\\n\\n\\n\\n\\n\\n\\n\\n\\n\\n1. 천재지변의 경우\\n\\n\\n\\n\\n\\n\\n\\n\\n\\n\\n\\n\\n\\n\\n\\n2. 전시·사변 또는 이에 준하는 국가비상사태의 경우\\n\\n\\n\\n\\n\\n\\n\\n\\n\\n\\n\\n\\n\\n\\n\\n3. 의장이 각 교섭단체 대표의원과 합의하는 경우')]"
      ]
     },
     "execution_count": 27,
     "metadata": {},
     "output_type": "execute_result"
    }
   ],
   "source": [
    "query = '한새 비목의 설치에 대한 동의 요청이 소관 상임위원회에 회부되어 회부된 때부터 몇시간 이내에 동의 여부 를 결정하여야 합니까?'\n",
    "retrived_docs = database.similarity_search(query, k=3)\n",
    "retrived_docs"
   ]
  },
  {
   "cell_type": "code",
   "execution_count": 29,
   "id": "abc0bf37",
   "metadata": {},
   "outputs": [],
   "source": [
    "# ------------------------------------------------------------\n",
    "# 4️⃣ 프롬프트 템플릿 정의 + LLM 연결\n",
    "# ------------------------------------------------------------\n",
    "from langchain_openai import ChatOpenAI\n",
    "from langchain_core.prompts import PromptTemplate\n",
    "\n",
    "llm = ChatOpenAI(model=\"gpt-4o\")\n",
    "\n",
    "rag_prompt_template = PromptTemplate(\n",
    "    template=\"\"\"\n",
    "    You are a helpful assistant that can answer questions about Korean tax law.\n",
    "    Use the following context to answer accurately and concisely.\n",
    "\n",
    "    Context:\n",
    "    {context}\n",
    "\n",
    "    Question:\n",
    "    {question}\n",
    "\n",
    "    Answer:\n",
    "    \"\"\",\n",
    "    input_variables=[\"context\", \"question\"]\n",
    ")\n",
    "\n",
    "# LangChain Expression Language (LCEL)로 파이프라인 구성\n",
    "rag_chain = rag_prompt_template | llm"
   ]
  },
  {
   "cell_type": "code",
   "execution_count": 30,
   "id": "00f736b0",
   "metadata": {},
   "outputs": [
    {
     "name": "stdout",
     "output_type": "stream",
     "text": [
      "🧩 질문:\n",
      "한새 비목의 설치에 대한 동의 요청이 소관 상임위원회에 회부되어 회부된 때부터 몇시간 이내에 동의 여부 를 결정하여야 합니까?\n",
      "\n",
      "📚 검색된 컨텍스트:\n",
      "[Document(metadata={'source': './tax.docx'}, page_content='[전문개정 2018.4.17.]\\n\\n\\n\\n\\n\\n\\n\\n\\n\\n\\n\\n\\n\\n\\n\\n\\n\\n\\n\\n제84조의2(기금운용계획안의 회부 등)\\n\\n\\n\\n\\n\\n① 국회는「국가재정법」제68조제1항에 따라 제출된 기금운용계획안을 회계연도 개시 30일 전까지 심의·확정한다.\\n\\n\\n\\n\\n\\n\\n\\n\\n\\n\\n\\n\\n\\n\\n\\n② 제1항에 따른 기금운용계획안과「국가재정법」제70조제2항에 따른 기금운용계획변경안의 회부 등에 관하여는 제84조 중 예산안 관련 규정을 준용한다.\\n\\n\\n\\n\\n\\n\\n\\n\\n\\n\\n\\n\\n\\n\\n\\n③ 제2항에 따라 상임위원회가 기금운용계획안 등에 대한 예비심사를 하는 경우(제84조제1항에 따라 결산에 대한 예비심사를 하는 경우를 포함한다) 기금을 운용·관리하는 부처의 소관 상임위원회와 기금사업을 수행하는 부처의 소관 상임위원회가 다를 때에는 기금을 운용·관리하는 부처의 소관 상임위원회는 기금사업을 수행하는 부처의 소관 상임위원회로부터 기금사업에 대한 의견을 들어야 한다. 다만, 기금을 운용·관리하는 부처의 소관 상임위원회의 의결일 전날까지 의견을 제시하지 아니할 경우에는 그러하지 아니하다.\\n\\n\\n\\n\\n\\n\\n\\n\\n\\n\\n\\n\\n\\n\\n\\n④ 제3항에 따른 기금사업을 수행하는 부처의 소관 상임위원회는 기금사업에 대한 업무보고를 들은 후 의견을 제시할 수 있다.\\n\\n\\n\\n\\n\\n\\n\\n\\n\\n\\n\\n\\n\\n\\n\\n[전문개정 2018.4.17.]\\n\\n\\n\\n\\n\\n\\n\\n\\n\\n\\n\\n\\n\\n\\n\\n\\n\\n\\n\\n제84조의3(예산안·기금운용계획안 및 결산에 대한 공청회)\\n\\n\\n\\n\\n\\n예산결산특별위원회는 예산안, 기금운용계획안 및 결산에 대하여 공청회를 개최하여야 한다. 다만, 추가경정예산안, 기금운용계획변경안 또는 결산의 경우에는 위원회의 의결로 공청회를 생략할 수 있다.\\n\\n\\n\\n\\n\\n\\n\\n\\n\\n\\n\\n\\n\\n\\n\\n[전문개정 2018.4.17.]\\n\\n\\n\\n\\n\\n\\n\\n\\n\\n\\n\\n\\n\\n\\n\\n\\n\\n\\n\\n제84조의4(임대형 민자사업 한도액안의 회부 등)\\n\\n\\n\\n\\n\\n① 국회는「사회기반시설에 대한 민간투자법」제7조의2제1항에 따라 국회에 제출되는 임대형 민자사업 한도액안을 회계연도 개시 30일 전까지 심의·확정한다.\\n\\n\\n\\n\\n\\n\\n\\n\\n\\n\\n\\n\\n\\n\\n\\n② 제1항에 따른 임대형 민자사업 한도액안의 회부 등에 관하여는 제84조 중 예산안 관련 규정을 준용한다.\\n\\n\\n\\n\\n\\n\\n\\n\\n\\n\\n\\n\\n\\n\\n\\n[전문개정 2018.4.17.]\\n\\n\\n\\n\\n\\n\\n\\n\\n\\n\\n\\n\\n\\n\\n\\n\\n\\n\\n\\n제85조(심사기간)\\n\\n\\n\\n\\n\\n① 의장은 다음 각 호의 어느 하나에 해당하는 경우에는 위원회에 회부하는 안건 또는 회부된 안건에 대하여 심사기간을 지정할 수 있다. 이 경우 제1호 또는 제2호에 해당할 때에는 의장이 각 교섭단체 대표의원과 협의하여 해당 호와 관련된 안건에 대해서만 심사기간을 지정할 수 있다.\\n\\n\\n\\n\\n\\n\\n\\n\\n\\n\\n\\n\\n\\n\\n\\n1. 천재지변의 경우\\n\\n\\n\\n\\n\\n\\n\\n\\n\\n\\n\\n\\n\\n\\n\\n2. 전시·사변 또는 이에 준하는 국가비상사태의 경우\\n\\n\\n\\n\\n\\n\\n\\n\\n\\n\\n\\n\\n\\n\\n\\n3. 의장이 각 교섭단체 대표의원과 합의하는 경우'), Document(metadata={'source': './tax.docx'}, page_content='[전문개정 2018.4.17.]\\n\\n\\n\\n\\n\\n\\n\\n\\n\\n\\n\\n\\n\\n\\n\\n\\n\\n\\n\\n제84조의2(기금운용계획안의 회부 등)\\n\\n\\n\\n\\n\\n① 국회는「국가재정법」제68조제1항에 따라 제출된 기금운용계획안을 회계연도 개시 30일 전까지 심의·확정한다.\\n\\n\\n\\n\\n\\n\\n\\n\\n\\n\\n\\n\\n\\n\\n\\n② 제1항에 따른 기금운용계획안과「국가재정법」제70조제2항에 따른 기금운용계획변경안의 회부 등에 관하여는 제84조 중 예산안 관련 규정을 준용한다.\\n\\n\\n\\n\\n\\n\\n\\n\\n\\n\\n\\n\\n\\n\\n\\n③ 제2항에 따라 상임위원회가 기금운용계획안 등에 대한 예비심사를 하는 경우(제84조제1항에 따라 결산에 대한 예비심사를 하는 경우를 포함한다) 기금을 운용·관리하는 부처의 소관 상임위원회와 기금사업을 수행하는 부처의 소관 상임위원회가 다를 때에는 기금을 운용·관리하는 부처의 소관 상임위원회는 기금사업을 수행하는 부처의 소관 상임위원회로부터 기금사업에 대한 의견을 들어야 한다. 다만, 기금을 운용·관리하는 부처의 소관 상임위원회의 의결일 전날까지 의견을 제시하지 아니할 경우에는 그러하지 아니하다.\\n\\n\\n\\n\\n\\n\\n\\n\\n\\n\\n\\n\\n\\n\\n\\n④ 제3항에 따른 기금사업을 수행하는 부처의 소관 상임위원회는 기금사업에 대한 업무보고를 들은 후 의견을 제시할 수 있다.\\n\\n\\n\\n\\n\\n\\n\\n\\n\\n\\n\\n\\n\\n\\n\\n[전문개정 2018.4.17.]\\n\\n\\n\\n\\n\\n\\n\\n\\n\\n\\n\\n\\n\\n\\n\\n\\n\\n\\n\\n제84조의3(예산안·기금운용계획안 및 결산에 대한 공청회)\\n\\n\\n\\n\\n\\n예산결산특별위원회는 예산안, 기금운용계획안 및 결산에 대하여 공청회를 개최하여야 한다. 다만, 추가경정예산안, 기금운용계획변경안 또는 결산의 경우에는 위원회의 의결로 공청회를 생략할 수 있다.\\n\\n\\n\\n\\n\\n\\n\\n\\n\\n\\n\\n\\n\\n\\n\\n[전문개정 2018.4.17.]\\n\\n\\n\\n\\n\\n\\n\\n\\n\\n\\n\\n\\n\\n\\n\\n\\n\\n\\n\\n제84조의4(임대형 민자사업 한도액안의 회부 등)\\n\\n\\n\\n\\n\\n① 국회는「사회기반시설에 대한 민간투자법」제7조의2제1항에 따라 국회에 제출되는 임대형 민자사업 한도액안을 회계연도 개시 30일 전까지 심의·확정한다.\\n\\n\\n\\n\\n\\n\\n\\n\\n\\n\\n\\n\\n\\n\\n\\n② 제1항에 따른 임대형 민자사업 한도액안의 회부 등에 관하여는 제84조 중 예산안 관련 규정을 준용한다.\\n\\n\\n\\n\\n\\n\\n\\n\\n\\n\\n\\n\\n\\n\\n\\n[전문개정 2018.4.17.]\\n\\n\\n\\n\\n\\n\\n\\n\\n\\n\\n\\n\\n\\n\\n\\n\\n\\n\\n\\n제85조(심사기간)\\n\\n\\n\\n\\n\\n① 의장은 다음 각 호의 어느 하나에 해당하는 경우에는 위원회에 회부하는 안건 또는 회부된 안건에 대하여 심사기간을 지정할 수 있다. 이 경우 제1호 또는 제2호에 해당할 때에는 의장이 각 교섭단체 대표의원과 협의하여 해당 호와 관련된 안건에 대해서만 심사기간을 지정할 수 있다.\\n\\n\\n\\n\\n\\n\\n\\n\\n\\n\\n\\n\\n\\n\\n\\n1. 천재지변의 경우\\n\\n\\n\\n\\n\\n\\n\\n\\n\\n\\n\\n\\n\\n\\n\\n2. 전시·사변 또는 이에 준하는 국가비상사태의 경우\\n\\n\\n\\n\\n\\n\\n\\n\\n\\n\\n\\n\\n\\n\\n\\n3. 의장이 각 교섭단체 대표의원과 합의하는 경우'), Document(metadata={'source': './tax.docx'}, page_content='[전문개정 2018.4.17.]\\n\\n\\n\\n\\n\\n\\n\\n\\n\\n\\n\\n\\n\\n\\n\\n\\n\\n\\n\\n제84조의2(기금운용계획안의 회부 등)\\n\\n\\n\\n\\n\\n① 국회는「국가재정법」제68조제1항에 따라 제출된 기금운용계획안을 회계연도 개시 30일 전까지 심의·확정한다.\\n\\n\\n\\n\\n\\n\\n\\n\\n\\n\\n\\n\\n\\n\\n\\n② 제1항에 따른 기금운용계획안과「국가재정법」제70조제2항에 따른 기금운용계획변경안의 회부 등에 관하여는 제84조 중 예산안 관련 규정을 준용한다.\\n\\n\\n\\n\\n\\n\\n\\n\\n\\n\\n\\n\\n\\n\\n\\n③ 제2항에 따라 상임위원회가 기금운용계획안 등에 대한 예비심사를 하는 경우(제84조제1항에 따라 결산에 대한 예비심사를 하는 경우를 포함한다) 기금을 운용·관리하는 부처의 소관 상임위원회와 기금사업을 수행하는 부처의 소관 상임위원회가 다를 때에는 기금을 운용·관리하는 부처의 소관 상임위원회는 기금사업을 수행하는 부처의 소관 상임위원회로부터 기금사업에 대한 의견을 들어야 한다. 다만, 기금을 운용·관리하는 부처의 소관 상임위원회의 의결일 전날까지 의견을 제시하지 아니할 경우에는 그러하지 아니하다.\\n\\n\\n\\n\\n\\n\\n\\n\\n\\n\\n\\n\\n\\n\\n\\n④ 제3항에 따른 기금사업을 수행하는 부처의 소관 상임위원회는 기금사업에 대한 업무보고를 들은 후 의견을 제시할 수 있다.\\n\\n\\n\\n\\n\\n\\n\\n\\n\\n\\n\\n\\n\\n\\n\\n[전문개정 2018.4.17.]\\n\\n\\n\\n\\n\\n\\n\\n\\n\\n\\n\\n\\n\\n\\n\\n\\n\\n\\n\\n제84조의3(예산안·기금운용계획안 및 결산에 대한 공청회)\\n\\n\\n\\n\\n\\n예산결산특별위원회는 예산안, 기금운용계획안 및 결산에 대하여 공청회를 개최하여야 한다. 다만, 추가경정예산안, 기금운용계획변경안 또는 결산의 경우에는 위원회의 의결로 공청회를 생략할 수 있다.\\n\\n\\n\\n\\n\\n\\n\\n\\n\\n\\n\\n\\n\\n\\n\\n[전문개정 2018.4.17.]\\n\\n\\n\\n\\n\\n\\n\\n\\n\\n\\n\\n\\n\\n\\n\\n\\n\\n\\n\\n제84조의4(임대형 민자사업 한도액안의 회부 등)\\n\\n\\n\\n\\n\\n① 국회는「사회기반시설에 대한 민간투자법」제7조의2제1항에 따라 국회에 제출되는 임대형 민자사업 한도액안을 회계연도 개시 30일 전까지 심의·확정한다.\\n\\n\\n\\n\\n\\n\\n\\n\\n\\n\\n\\n\\n\\n\\n\\n② 제1항에 따른 임대형 민자사업 한도액안의 회부 등에 관하여는 제84조 중 예산안 관련 규정을 준용한다.\\n\\n\\n\\n\\n\\n\\n\\n\\n\\n\\n\\n\\n\\n\\n\\n[전문개정 2018.4.17.]\\n\\n\\n\\n\\n\\n\\n\\n\\n\\n\\n\\n\\n\\n\\n\\n\\n\\n\\n\\n제85조(심사기간)\\n\\n\\n\\n\\n\\n① 의장은 다음 각 호의 어느 하나에 해당하는 경우에는 위원회에 회부하는 안건 또는 회부된 안건에 대하여 심사기간을 지정할 수 있다. 이 경우 제1호 또는 제2호에 해당할 때에는 의장이 각 교섭단체 대표의원과 협의하여 해당 호와 관련된 안건에 대해서만 심사기간을 지정할 수 있다.\\n\\n\\n\\n\\n\\n\\n\\n\\n\\n\\n\\n\\n\\n\\n\\n1. 천재지변의 경우\\n\\n\\n\\n\\n\\n\\n\\n\\n\\n\\n\\n\\n\\n\\n\\n2. 전시·사변 또는 이에 준하는 국가비상사태의 경우\\n\\n\\n\\n\\n\\n\\n\\n\\n\\n\\n\\n\\n\\n\\n\\n3. 의장이 각 교섭단체 대표의원과 합의하는 경우')]\n",
      "\n",
      "💬 답변:\n",
      "죄송합니다. 제공된 문서 내용에서는 '한새 비목의 설치에 대한 동의 요청'이나 그와 관련된 심사시간에 대해 언급하고 있지 않습니다. 해당 내용이 문서에 포함되어 있지 않아 정확한 답변을 드리기가 어렵습니다. 다른 질문이 있거나 추가적인 정보가 필요하시면 알려주시기 바랍니다.\n"
     ]
    }
   ],
   "source": [
    "# ------------------------------------------------------------\n",
    "# 5️⃣ 실행\n",
    "# ------------------------------------------------------------\n",
    "ai_message = rag_chain.invoke({\n",
    "    \"context\": retrived_docs,   # ✅ 문자열로 전달해야 함\n",
    "    \"question\": query\n",
    "})\n",
    "\n",
    "# 🔹 질문과 답변을 함께 출력\n",
    "print(\"🧩 질문:\")\n",
    "print(query)\n",
    "print(\"\\n📚 검색된 컨텍스트:\")\n",
    "print(retrived_docs)\n",
    "print(\"\\n💬 답변:\")\n",
    "print(ai_message.content)"
   ]
  },
  {
   "cell_type": "code",
   "execution_count": null,
   "id": "e7bb2bb6",
   "metadata": {},
   "outputs": [],
   "source": []
  }
 ],
 "metadata": {
  "kernelspec": {
   "display_name": "rng-venv",
   "language": "python",
   "name": "python3"
  },
  "language_info": {
   "codemirror_mode": {
    "name": "ipython",
    "version": 3
   },
   "file_extension": ".py",
   "mimetype": "text/x-python",
   "name": "python",
   "nbconvert_exporter": "python",
   "pygments_lexer": "ipython3",
   "version": "3.10.12"
  }
 },
 "nbformat": 4,
 "nbformat_minor": 5
}
