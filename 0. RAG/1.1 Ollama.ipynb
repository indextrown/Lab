{
 "cells": [
  {
   "cell_type": "code",
   "execution_count": 8,
   "id": "03566692",
   "metadata": {},
   "outputs": [
    {
     "name": "stdout",
     "output_type": "stream",
     "text": [
      "Requirement already satisfied: langchain-community in /Users/kimdonghyeon/.pyenv/versions/3.10.12/envs/rng-venv/lib/python3.10/site-packages (0.4)\n",
      "Requirement already satisfied: langsmith<1.0.0,>=0.1.125 in /Users/kimdonghyeon/.pyenv/versions/3.10.12/envs/rng-venv/lib/python3.10/site-packages (from langchain-community) (0.4.37)\n",
      "Requirement already satisfied: SQLAlchemy<3.0.0,>=1.4.0 in /Users/kimdonghyeon/.pyenv/versions/3.10.12/envs/rng-venv/lib/python3.10/site-packages (from langchain-community) (2.0.44)\n",
      "Requirement already satisfied: tenacity!=8.4.0,<10.0.0,>=8.1.0 in /Users/kimdonghyeon/.pyenv/versions/3.10.12/envs/rng-venv/lib/python3.10/site-packages (from langchain-community) (9.1.2)\n",
      "Requirement already satisfied: PyYAML<7.0.0,>=5.3.0 in /Users/kimdonghyeon/.pyenv/versions/3.10.12/envs/rng-venv/lib/python3.10/site-packages (from langchain-community) (6.0.3)\n",
      "Requirement already satisfied: dataclasses-json<0.7.0,>=0.6.7 in /Users/kimdonghyeon/.pyenv/versions/3.10.12/envs/rng-venv/lib/python3.10/site-packages (from langchain-community) (0.6.7)\n",
      "Requirement already satisfied: requests<3.0.0,>=2.32.5 in /Users/kimdonghyeon/.pyenv/versions/3.10.12/envs/rng-venv/lib/python3.10/site-packages (from langchain-community) (2.32.5)\n",
      "Requirement already satisfied: langchain-core<2.0.0,>=1.0.0 in /Users/kimdonghyeon/.pyenv/versions/3.10.12/envs/rng-venv/lib/python3.10/site-packages (from langchain-community) (1.0.0)\n",
      "Requirement already satisfied: aiohttp<4.0.0,>=3.8.3 in /Users/kimdonghyeon/.pyenv/versions/3.10.12/envs/rng-venv/lib/python3.10/site-packages (from langchain-community) (3.13.1)\n",
      "Requirement already satisfied: numpy>=1.26.2 in /Users/kimdonghyeon/.pyenv/versions/3.10.12/envs/rng-venv/lib/python3.10/site-packages (from langchain-community) (2.2.6)\n",
      "Requirement already satisfied: httpx-sse<1.0.0,>=0.4.0 in /Users/kimdonghyeon/.pyenv/versions/3.10.12/envs/rng-venv/lib/python3.10/site-packages (from langchain-community) (0.4.3)\n",
      "Requirement already satisfied: pydantic-settings<3.0.0,>=2.10.1 in /Users/kimdonghyeon/.pyenv/versions/3.10.12/envs/rng-venv/lib/python3.10/site-packages (from langchain-community) (2.11.0)\n",
      "Requirement already satisfied: langchain-classic<2.0.0,>=1.0.0 in /Users/kimdonghyeon/.pyenv/versions/3.10.12/envs/rng-venv/lib/python3.10/site-packages (from langchain-community) (1.0.0)\n",
      "Requirement already satisfied: multidict<7.0,>=4.5 in /Users/kimdonghyeon/.pyenv/versions/3.10.12/envs/rng-venv/lib/python3.10/site-packages (from aiohttp<4.0.0,>=3.8.3->langchain-community) (6.7.0)\n",
      "Requirement already satisfied: aiohappyeyeballs>=2.5.0 in /Users/kimdonghyeon/.pyenv/versions/3.10.12/envs/rng-venv/lib/python3.10/site-packages (from aiohttp<4.0.0,>=3.8.3->langchain-community) (2.6.1)\n",
      "Requirement already satisfied: attrs>=17.3.0 in /Users/kimdonghyeon/.pyenv/versions/3.10.12/envs/rng-venv/lib/python3.10/site-packages (from aiohttp<4.0.0,>=3.8.3->langchain-community) (25.4.0)\n",
      "Requirement already satisfied: yarl<2.0,>=1.17.0 in /Users/kimdonghyeon/.pyenv/versions/3.10.12/envs/rng-venv/lib/python3.10/site-packages (from aiohttp<4.0.0,>=3.8.3->langchain-community) (1.22.0)\n",
      "Requirement already satisfied: propcache>=0.2.0 in /Users/kimdonghyeon/.pyenv/versions/3.10.12/envs/rng-venv/lib/python3.10/site-packages (from aiohttp<4.0.0,>=3.8.3->langchain-community) (0.4.1)\n",
      "Requirement already satisfied: async-timeout<6.0,>=4.0 in /Users/kimdonghyeon/.pyenv/versions/3.10.12/envs/rng-venv/lib/python3.10/site-packages (from aiohttp<4.0.0,>=3.8.3->langchain-community) (4.0.3)\n",
      "Requirement already satisfied: frozenlist>=1.1.1 in /Users/kimdonghyeon/.pyenv/versions/3.10.12/envs/rng-venv/lib/python3.10/site-packages (from aiohttp<4.0.0,>=3.8.3->langchain-community) (1.8.0)\n",
      "Requirement already satisfied: aiosignal>=1.4.0 in /Users/kimdonghyeon/.pyenv/versions/3.10.12/envs/rng-venv/lib/python3.10/site-packages (from aiohttp<4.0.0,>=3.8.3->langchain-community) (1.4.0)\n",
      "Requirement already satisfied: marshmallow<4.0.0,>=3.18.0 in /Users/kimdonghyeon/.pyenv/versions/3.10.12/envs/rng-venv/lib/python3.10/site-packages (from dataclasses-json<0.7.0,>=0.6.7->langchain-community) (3.26.1)\n",
      "Requirement already satisfied: typing-inspect<1,>=0.4.0 in /Users/kimdonghyeon/.pyenv/versions/3.10.12/envs/rng-venv/lib/python3.10/site-packages (from dataclasses-json<0.7.0,>=0.6.7->langchain-community) (0.9.0)\n",
      "Requirement already satisfied: langchain-text-splitters<2.0.0,>=1.0.0 in /Users/kimdonghyeon/.pyenv/versions/3.10.12/envs/rng-venv/lib/python3.10/site-packages (from langchain-classic<2.0.0,>=1.0.0->langchain-community) (1.0.0)\n",
      "Requirement already satisfied: pydantic<3.0.0,>=2.7.4 in /Users/kimdonghyeon/.pyenv/versions/3.10.12/envs/rng-venv/lib/python3.10/site-packages (from langchain-classic<2.0.0,>=1.0.0->langchain-community) (2.12.3)\n",
      "Requirement already satisfied: jsonpatch<2.0.0,>=1.33.0 in /Users/kimdonghyeon/.pyenv/versions/3.10.12/envs/rng-venv/lib/python3.10/site-packages (from langchain-core<2.0.0,>=1.0.0->langchain-community) (1.33)\n",
      "Requirement already satisfied: typing-extensions<5.0.0,>=4.7.0 in /Users/kimdonghyeon/.pyenv/versions/3.10.12/envs/rng-venv/lib/python3.10/site-packages (from langchain-core<2.0.0,>=1.0.0->langchain-community) (4.15.0)\n",
      "Requirement already satisfied: packaging<26.0.0,>=23.2.0 in /Users/kimdonghyeon/.pyenv/versions/3.10.12/envs/rng-venv/lib/python3.10/site-packages (from langchain-core<2.0.0,>=1.0.0->langchain-community) (25.0)\n",
      "Requirement already satisfied: zstandard>=0.23.0 in /Users/kimdonghyeon/.pyenv/versions/3.10.12/envs/rng-venv/lib/python3.10/site-packages (from langsmith<1.0.0,>=0.1.125->langchain-community) (0.25.0)\n",
      "Requirement already satisfied: httpx<1,>=0.23.0 in /Users/kimdonghyeon/.pyenv/versions/3.10.12/envs/rng-venv/lib/python3.10/site-packages (from langsmith<1.0.0,>=0.1.125->langchain-community) (0.28.1)\n",
      "Requirement already satisfied: orjson>=3.9.14 in /Users/kimdonghyeon/.pyenv/versions/3.10.12/envs/rng-venv/lib/python3.10/site-packages (from langsmith<1.0.0,>=0.1.125->langchain-community) (3.11.3)\n",
      "Requirement already satisfied: requests-toolbelt>=1.0.0 in /Users/kimdonghyeon/.pyenv/versions/3.10.12/envs/rng-venv/lib/python3.10/site-packages (from langsmith<1.0.0,>=0.1.125->langchain-community) (1.0.0)\n",
      "Requirement already satisfied: typing-inspection>=0.4.0 in /Users/kimdonghyeon/.pyenv/versions/3.10.12/envs/rng-venv/lib/python3.10/site-packages (from pydantic-settings<3.0.0,>=2.10.1->langchain-community) (0.4.2)\n",
      "Requirement already satisfied: python-dotenv>=0.21.0 in /Users/kimdonghyeon/.pyenv/versions/3.10.12/envs/rng-venv/lib/python3.10/site-packages (from pydantic-settings<3.0.0,>=2.10.1->langchain-community) (1.1.1)\n",
      "Requirement already satisfied: charset_normalizer<4,>=2 in /Users/kimdonghyeon/.pyenv/versions/3.10.12/envs/rng-venv/lib/python3.10/site-packages (from requests<3.0.0,>=2.32.5->langchain-community) (3.4.4)\n",
      "Requirement already satisfied: certifi>=2017.4.17 in /Users/kimdonghyeon/.pyenv/versions/3.10.12/envs/rng-venv/lib/python3.10/site-packages (from requests<3.0.0,>=2.32.5->langchain-community) (2025.10.5)\n",
      "Requirement already satisfied: urllib3<3,>=1.21.1 in /Users/kimdonghyeon/.pyenv/versions/3.10.12/envs/rng-venv/lib/python3.10/site-packages (from requests<3.0.0,>=2.32.5->langchain-community) (2.5.0)\n",
      "Requirement already satisfied: idna<4,>=2.5 in /Users/kimdonghyeon/.pyenv/versions/3.10.12/envs/rng-venv/lib/python3.10/site-packages (from requests<3.0.0,>=2.32.5->langchain-community) (3.11)\n",
      "Requirement already satisfied: httpcore==1.* in /Users/kimdonghyeon/.pyenv/versions/3.10.12/envs/rng-venv/lib/python3.10/site-packages (from httpx<1,>=0.23.0->langsmith<1.0.0,>=0.1.125->langchain-community) (1.0.9)\n",
      "Requirement already satisfied: anyio in /Users/kimdonghyeon/.pyenv/versions/3.10.12/envs/rng-venv/lib/python3.10/site-packages (from httpx<1,>=0.23.0->langsmith<1.0.0,>=0.1.125->langchain-community) (4.11.0)\n",
      "Requirement already satisfied: h11>=0.16 in /Users/kimdonghyeon/.pyenv/versions/3.10.12/envs/rng-venv/lib/python3.10/site-packages (from httpcore==1.*->httpx<1,>=0.23.0->langsmith<1.0.0,>=0.1.125->langchain-community) (0.16.0)\n",
      "Requirement already satisfied: jsonpointer>=1.9 in /Users/kimdonghyeon/.pyenv/versions/3.10.12/envs/rng-venv/lib/python3.10/site-packages (from jsonpatch<2.0.0,>=1.33.0->langchain-core<2.0.0,>=1.0.0->langchain-community) (3.0.0)\n",
      "Requirement already satisfied: annotated-types>=0.6.0 in /Users/kimdonghyeon/.pyenv/versions/3.10.12/envs/rng-venv/lib/python3.10/site-packages (from pydantic<3.0.0,>=2.7.4->langchain-classic<2.0.0,>=1.0.0->langchain-community) (0.7.0)\n",
      "Requirement already satisfied: pydantic-core==2.41.4 in /Users/kimdonghyeon/.pyenv/versions/3.10.12/envs/rng-venv/lib/python3.10/site-packages (from pydantic<3.0.0,>=2.7.4->langchain-classic<2.0.0,>=1.0.0->langchain-community) (2.41.4)\n",
      "Requirement already satisfied: mypy-extensions>=0.3.0 in /Users/kimdonghyeon/.pyenv/versions/3.10.12/envs/rng-venv/lib/python3.10/site-packages (from typing-inspect<1,>=0.4.0->dataclasses-json<0.7.0,>=0.6.7->langchain-community) (1.1.0)\n",
      "Requirement already satisfied: sniffio>=1.1 in /Users/kimdonghyeon/.pyenv/versions/3.10.12/envs/rng-venv/lib/python3.10/site-packages (from anyio->httpx<1,>=0.23.0->langsmith<1.0.0,>=0.1.125->langchain-community) (1.3.1)\n",
      "Requirement already satisfied: exceptiongroup>=1.0.2 in /Users/kimdonghyeon/.pyenv/versions/3.10.12/envs/rng-venv/lib/python3.10/site-packages (from anyio->httpx<1,>=0.23.0->langsmith<1.0.0,>=0.1.125->langchain-community) (1.3.0)\n",
      "\n",
      "\u001b[1m[\u001b[0m\u001b[34;49mnotice\u001b[0m\u001b[1;39;49m]\u001b[0m\u001b[39;49m A new release of pip is available: \u001b[0m\u001b[31;49m23.0.1\u001b[0m\u001b[39;49m -> \u001b[0m\u001b[32;49m25.2\u001b[0m\n",
      "\u001b[1m[\u001b[0m\u001b[34;49mnotice\u001b[0m\u001b[1;39;49m]\u001b[0m\u001b[39;49m To update, run: \u001b[0m\u001b[32;49mpip install --upgrade pip\u001b[0m\n",
      "Note: you may need to restart the kernel to use updated packages.\n"
     ]
    }
   ],
   "source": [
    "%pip install langchain-community\n",
    "\n",
    "# ollama pull gemma3:4b"
   ]
  },
  {
   "cell_type": "code",
   "execution_count": 1,
   "id": "23807beb",
   "metadata": {},
   "outputs": [
    {
     "name": "stderr",
     "output_type": "stream",
     "text": [
      "/var/folders/d9/xb3pxm293r15sx57hh9pcrh80000gn/T/ipykernel_68111/2005097293.py:4: LangChainDeprecationWarning: The class `ChatOllama` was deprecated in LangChain 0.3.1 and will be removed in 1.0.0. An updated version of the class exists in the `langchain-ollama package and should be used instead. To use it run `pip install -U `langchain-ollama` and import as `from `langchain_ollama import ChatOllama``.\n",
      "  llm = ChatOllama(model=\"gemma3:4b\")\n"
     ]
    }
   ],
   "source": [
    "from langchain_community.chat_models import ChatOllama\n",
    "import time\n",
    "\n",
    "llm = ChatOllama(model=\"gemma3:4b\")"
   ]
  },
  {
   "cell_type": "code",
   "execution_count": 4,
   "id": "d11c1429",
   "metadata": {},
   "outputs": [
    {
     "data": {
      "text/plain": [
       "'인프런에는 정말 다양한 분야의 강의가 많습니다! 어떤 분야에 관심 있으신가요? 관심 분야에 따라 추천 강의가 달라지니, 몇 가지 예시와 함께 인프런 강의 검색 방법을 알려드릴게요.\\n\\n**1. 인기 강좌 분야 (2024년 5월 24일 기준):**\\n\\n*   **IT 개발 (웹, 앱, 백엔드, 프론트엔드):**\\n    *   **[파이썬 부자되기]** (이웅석): 파이썬 기초부터 심화, 웹 개발, 자동화 등\\n    *   **[웹 개발 마스터]** (이웅석): HTML, CSS, JavaScript, Node.js 등 웹 개발 핵심\\n    *   **[반응형 웹 개발 부자]** (김도현): 반응형 웹 디자인 및 개발 (HTML, CSS, JavaScript)\\n    *   **[React 완벽 마스터]** (이웅석): React 프레임워크 기반 웹 애플리케이션 개발\\n    *   **[Node.js 웹 서버 개발 마스터]** (이웅석): Node.js를 사용한 웹 서버 개발\\n    *   **[Spring Framework 마스터]** (김도현): Spring 프레임워크 기반 백엔드 개발\\n*   **데이터 분석/머신러닝:**\\n    *   **[데이터 분석 입문]** (이웅석): 엑셀, SQL, 파이썬을 활용한 데이터 분석 기초\\n    *   **[머신러닝 부자]** (이웅석): 머신러닝 이론 및 실습\\n    *   **[Python 데이터 분석 입문]** (이웅석): 파이썬을 활용한 데이터 분석 실습\\n*   **프로그래밍/개발:**\\n    *   **[자바 개발 마스터]** (이웅석): 자바 프로그래밍 기초 및 실습\\n    *   **[C++ 개발 마스터]** (이웅석): C++ 프로그래밍 기초 및 실습\\n    *   **[JavaScript 마스터]** (이웅석): JavaScript 프로그래밍 기초 및 실습\\n*   **디자인:**\\n    *   **[UI/UX 디자인 부자]** (김도현): UI/UX 디자인 기초 및 실습\\n*   **기타:**\\n    *   **[한 회사의 프론트엔드 개발자]** (이웅석): 웹 개발 프로젝트 진행 및 개발 경험 공유\\n    *   **[AWS 클라우드 활용 마스터]** (이웅석): AWS 클라우드 서비스 활용 실습\\n\\n**2. 인프런 강의 검색 방법:**\\n\\n*   **인프런 웹사이트:** [https://www.infrun.kr/](https://www.infrun.kr/)\\n*   **검색창:** 웹사이트 상단 또는 하단 검색창에 원하는 키워드를 입력하여 검색합니다.\\n    *   예시: \"파이썬\", \"웹 개발\", \"데이터 분석\", \"React\", \"자바\" 등\\n*   **카테고리 검색:** 강의를 분야별로 검색할 수 있습니다. (예: IT 개발, 디자인, 프로그래밍)\\n*   **인기 강좌:** 인기 있는 강좌들을 확인할 수 있습니다.\\n*   **추천 강좌:** 사용자님의 학습 이력 및 검색 기록을 기반으로 추천 강좌를 제공합니다.\\n\\n**3. 팁:**\\n\\n*   **강의 미리보기:** 강의 미리보기 기능을 통해 강의 내용을 미리 확인하고 선택할 수 있습니다.\\n*   **강의 리뷰:** 다른 사용자들의 리뷰를 참고하여 강의 선택에 도움을 받을 수 있습니다.\\n*   **강사 정보 확인:** 강사의 경력 및 전문성을 확인하여 강의를 선택하는 것도 좋은 방법입니다.\\n\\n**어떤 분야에 관심 있는지 알려주시면, 더욱 구체적인 강의를 추천해 드릴 수 있습니다.** 예를 들어, \"저는 파이썬을 배우고 싶어요\" 또는 \"웹 개발 기초를 배우고 싶습니다\" 와 같이 말씀해 주시면 됩니다.'"
      ]
     },
     "execution_count": 4,
     "metadata": {},
     "output_type": "execute_result"
    }
   ],
   "source": [
    "ai_essage = llm.invoke(\"인프런에 어떤 강의가 있나요??\")\n",
    "ai_essage.content"
   ]
  },
  {
   "cell_type": "code",
   "execution_count": 5,
   "id": "6261646d",
   "metadata": {},
   "outputs": [
    {
     "name": "stdout",
     "output_type": "stream",
     "text": [
      "응답 내용: 인프런에는 다양한 분야의 강의가 정말 많습니다! 어떤 분야에 관심 있으신가요? \n",
      "\n",
      "**인프런에서 인기 있는 분야와 강의 몇 가지를 소개해 드릴게요:**\n",
      "\n",
      "**1. 프로그래밍:**\n",
      "\n",
      "*   **자바:**\n",
      "    *   자바 완벽 마스터\n",
      "    *   자바의 정석\n",
      "    *   자바 심화 & 디자인 패턴\n",
      "*   **파이썬:**\n",
      "    *   완벽한 파이썬\n",
      "    *   파이썬 주도형 웹 개발 부트캠프\n",
      "    *   파이썬 알고리즘 집중 강의\n",
      "*   **자바스크립트:**\n",
      "    *   React 완벽 마스터\n",
      "    *   Node.js 완벽 마스터\n",
      "*   **C#:**\n",
      "    *   C# 마스터\n",
      "*   **Swift:**\n",
      "    *   iOS 앱 개발 (Swift)\n",
      "*   **Go:**\n",
      "    *   Go 개발자 양성 아카데미\n",
      "\n",
      "**2. 웹 개발:**\n",
      "\n",
      "*   **React:**\n",
      "    *   React 완벽 마스터\n",
      "    *   React 시작하기\n",
      "*   **Vue.js:**\n",
      "    *   Vue.js 마스터\n",
      "*   **Angular:**\n",
      "    *   Angular 마스터\n",
      "*   **Node.js:**\n",
      "    *   Node.js 완벽 마스터\n",
      "*   **Django:**\n",
      "    *   Django 웹 개발 부트캠프\n",
      "*   **Spring:**\n",
      "    *   Spring 풀스택 웹 개발 부트캠프\n",
      "\n",
      "**3. 데이터 분석/머신러닝:**\n",
      "\n",
      "*   **Python 데이터 분석:**\n",
      "    *   Python 데이터 분석 (Pandas, NumPy)\n",
      "    *   데이터 분석 - Pandas & NumPy\n",
      "*   **머신러닝:**\n",
      "    *   머신러닝 알고리즘 집중 강의\n",
      "    *   TensorFlow & Keras 완벽 마스터\n",
      "\n",
      "**4. IT/소프트웨어 개발:**\n",
      "\n",
      "*   **DevOps:**\n",
      "    *   Docker & Kubernetes 완벽 마스터\n",
      "*   **클라우드:**\n",
      "    *   AWS 클라우드 활용법\n",
      "\n",
      "**5. 디자인/마케팅:**\n",
      "\n",
      "*   **UI/UX 디자인:**\n",
      "    *   UI/UX 디자인 완전 정복\n",
      "\n",
      "**인프런 강의 검색 방법:**\n",
      "\n",
      "1.  **인프런 웹사이트 ([https://www.infrun.kr/](https://www.infrun.kr/))** 에 접속합니다.\n",
      "2.  **검색창** 에 관심 있는 키워드 (예: \"자바\", \"React\", \"데이터 분석\")를 입력하고 검색합니다.\n",
      "3.  검색 결과에서 원하는 강의를 선택하여 자세한 내용을 확인하고 수강 신청을 할 수 있습니다.\n",
      "\n",
      "**팁:**\n",
      "\n",
      "*   **인프런 추천 강의:** 인프런에서는 사용자들에게 인기 있는 강의들을 추천해주고 있습니다. 이 부분을 참고하는 것도 좋은 방법입니다.\n",
      "*   **무료 강의:** 인프런에는 무료 강의도 많으니, 먼저 무료 강의를 수강해보고 수강료를 지불할지 결정하는 것도 좋습니다.\n",
      "\n",
      "**어떤 분야에 관심 있으신지, 어떤 수준의 강의를 찾으시는지 알려주시면 더욱 구체적인 강의를 추천해 드릴 수 있습니다.** 예를 들어, \"저는 파이썬 초보자인데, 데이터 분석 강의를 찾고 있습니다.\" 와 같이 말씀해주시면 됩니다.\n",
      "⏱ 실행 시간: 10.40초\n"
     ]
    }
   ],
   "source": [
    "import time\n",
    "from langchain_community.chat_models import ChatOllama\n",
    "\n",
    "# 모델 초기화\n",
    "llm = ChatOllama(model=\"gemma3:4b\")\n",
    "\n",
    "# 시간 측정 시작\n",
    "start_time = time.time()\n",
    "\n",
    "# 모델 호출\n",
    "ai_message = llm.invoke(\"인프런에 어떤 강의가 있나요??\")\n",
    "\n",
    "# 시간 측정 종료\n",
    "end_time = time.time()\n",
    "\n",
    "# 결과 출력\n",
    "print(\"응답 내용:\", ai_message.content)\n",
    "print(f\"⏱ 실행 시간: {end_time - start_time:.2f}초\")\n"
   ]
  },
  {
   "cell_type": "code",
   "execution_count": 7,
   "id": "b7852e0c",
   "metadata": {},
   "outputs": [
    {
     "name": "stdout",
     "output_type": "stream",
     "text": [
      "API Key loaded: True\n",
      "응답 내용: 인프런은 다양한 주제의 온라인 강의를 제공하는 플랫폼입니다. 여기서는 IT, 프로그래밍, 데이터 과학, 디자인, 마케팅, 비즈니스 등의 여러 분야에 걸쳐 강의가 있습니다. 예를 들어:\n",
      "\n",
      "1. **프로그래밍**: Python, Java, JavaScript, C++ 등의 언어를 배우는 강의.\n",
      "2. **웹 개발**: HTML, CSS, React, Vue.js, Node.js 등을 활용한 웹 개발 과정.\n",
      "3. **데이터 분석 및 머신러닝**: 데이터 분석, 데이터 시각화, 머신러닝 기초 및 고급 과정.\n",
      "4. **디지털 마케팅**: SEO, 블로그 운영, SNS 마케팅 등.\n",
      "5. **UI/UX 디자인**: 디자인 도구 사용법과 사용자 경험 설계 이론.\n",
      "6. **클라우드 컴퓨팅**: AWS, Azure, Google Cloud Platform 관련 강의.\n",
      "\n",
      "각 강의는 초급부터 고급 과정까지 다양하게 제공되며, 강사와의 질의응답, 실습 등 다양한 학습 지원이 포함되어 있습니다. 플랫폼에 직접 방문하시면 더 구체적인 강의 목록을 확인할 수 있습니다.\n",
      "⏱ 실행 시간: 4.86초\n"
     ]
    }
   ],
   "source": [
    "from dotenv import load_dotenv\n",
    "import os\n",
    "import time\n",
    "from langchain_openai import ChatOpenAI\n",
    "\n",
    "# 1. .env에서 API 키 로드\n",
    "load_dotenv(dotenv_path=\".env\")\n",
    "api_key = os.getenv(\"OPENAI_API_KEY\")\n",
    "print(\"API Key loaded:\", api_key is not None)\n",
    "\n",
    "# 2. GPT 모델 초기화 (기본값은 gpt-4o-mini)\n",
    "llm = ChatOpenAI(\n",
    "    api_key=api_key,\n",
    "    model=\"gpt-4o-mini\"   # 원하시면 gpt-4 또는 gpt-4o 로 변경 가능\n",
    ")\n",
    "\n",
    "# 3. 시간 측정 시작\n",
    "start_time = time.time()\n",
    "\n",
    "# 4. 모델 호출+\n",
    "ai_message = llm.invoke(\"인프런에 어떤 강의가 있나요?\")\n",
    "\n",
    "# 5. 시간 측정 종료\n",
    "end_time = time.time()\n",
    "\n",
    "# 6. 결과 출력\n",
    "print(\"응답 내용:\", ai_message.content)\n",
    "print(f\"⏱ 실행 시간: {end_time - start_time:.2f}초\")\n"
   ]
  },
  {
   "cell_type": "code",
   "execution_count": null,
   "id": "73371ec4",
   "metadata": {},
   "outputs": [],
   "source": []
  }
 ],
 "metadata": {
  "kernelspec": {
   "display_name": "rng-venv",
   "language": "python",
   "name": "python3"
  },
  "language_info": {
   "codemirror_mode": {
    "name": "ipython",
    "version": 3
   },
   "file_extension": ".py",
   "mimetype": "text/x-python",
   "name": "python",
   "nbconvert_exporter": "python",
   "pygments_lexer": "ipython3",
   "version": "3.10.12"
  }
 },
 "nbformat": 4,
 "nbformat_minor": 5
}
