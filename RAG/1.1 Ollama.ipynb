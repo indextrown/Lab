{
 "cells": [
  {
   "cell_type": "code",
   "execution_count": 8,
   "id": "03566692",
   "metadata": {},
   "outputs": [
    {
     "name": "stdout",
     "output_type": "stream",
     "text": [
      "Requirement already satisfied: langchain-community in /Users/kimdonghyeon/.pyenv/versions/3.10.12/envs/rng-venv/lib/python3.10/site-packages (0.4)\n",
      "Requirement already satisfied: langsmith<1.0.0,>=0.1.125 in /Users/kimdonghyeon/.pyenv/versions/3.10.12/envs/rng-venv/lib/python3.10/site-packages (from langchain-community) (0.4.37)\n",
      "Requirement already satisfied: SQLAlchemy<3.0.0,>=1.4.0 in /Users/kimdonghyeon/.pyenv/versions/3.10.12/envs/rng-venv/lib/python3.10/site-packages (from langchain-community) (2.0.44)\n",
      "Requirement already satisfied: tenacity!=8.4.0,<10.0.0,>=8.1.0 in /Users/kimdonghyeon/.pyenv/versions/3.10.12/envs/rng-venv/lib/python3.10/site-packages (from langchain-community) (9.1.2)\n",
      "Requirement already satisfied: PyYAML<7.0.0,>=5.3.0 in /Users/kimdonghyeon/.pyenv/versions/3.10.12/envs/rng-venv/lib/python3.10/site-packages (from langchain-community) (6.0.3)\n",
      "Requirement already satisfied: dataclasses-json<0.7.0,>=0.6.7 in /Users/kimdonghyeon/.pyenv/versions/3.10.12/envs/rng-venv/lib/python3.10/site-packages (from langchain-community) (0.6.7)\n",
      "Requirement already satisfied: requests<3.0.0,>=2.32.5 in /Users/kimdonghyeon/.pyenv/versions/3.10.12/envs/rng-venv/lib/python3.10/site-packages (from langchain-community) (2.32.5)\n",
      "Requirement already satisfied: langchain-core<2.0.0,>=1.0.0 in /Users/kimdonghyeon/.pyenv/versions/3.10.12/envs/rng-venv/lib/python3.10/site-packages (from langchain-community) (1.0.0)\n",
      "Requirement already satisfied: aiohttp<4.0.0,>=3.8.3 in /Users/kimdonghyeon/.pyenv/versions/3.10.12/envs/rng-venv/lib/python3.10/site-packages (from langchain-community) (3.13.1)\n",
      "Requirement already satisfied: numpy>=1.26.2 in /Users/kimdonghyeon/.pyenv/versions/3.10.12/envs/rng-venv/lib/python3.10/site-packages (from langchain-community) (2.2.6)\n",
      "Requirement already satisfied: httpx-sse<1.0.0,>=0.4.0 in /Users/kimdonghyeon/.pyenv/versions/3.10.12/envs/rng-venv/lib/python3.10/site-packages (from langchain-community) (0.4.3)\n",
      "Requirement already satisfied: pydantic-settings<3.0.0,>=2.10.1 in /Users/kimdonghyeon/.pyenv/versions/3.10.12/envs/rng-venv/lib/python3.10/site-packages (from langchain-community) (2.11.0)\n",
      "Requirement already satisfied: langchain-classic<2.0.0,>=1.0.0 in /Users/kimdonghyeon/.pyenv/versions/3.10.12/envs/rng-venv/lib/python3.10/site-packages (from langchain-community) (1.0.0)\n",
      "Requirement already satisfied: multidict<7.0,>=4.5 in /Users/kimdonghyeon/.pyenv/versions/3.10.12/envs/rng-venv/lib/python3.10/site-packages (from aiohttp<4.0.0,>=3.8.3->langchain-community) (6.7.0)\n",
      "Requirement already satisfied: aiohappyeyeballs>=2.5.0 in /Users/kimdonghyeon/.pyenv/versions/3.10.12/envs/rng-venv/lib/python3.10/site-packages (from aiohttp<4.0.0,>=3.8.3->langchain-community) (2.6.1)\n",
      "Requirement already satisfied: attrs>=17.3.0 in /Users/kimdonghyeon/.pyenv/versions/3.10.12/envs/rng-venv/lib/python3.10/site-packages (from aiohttp<4.0.0,>=3.8.3->langchain-community) (25.4.0)\n",
      "Requirement already satisfied: yarl<2.0,>=1.17.0 in /Users/kimdonghyeon/.pyenv/versions/3.10.12/envs/rng-venv/lib/python3.10/site-packages (from aiohttp<4.0.0,>=3.8.3->langchain-community) (1.22.0)\n",
      "Requirement already satisfied: propcache>=0.2.0 in /Users/kimdonghyeon/.pyenv/versions/3.10.12/envs/rng-venv/lib/python3.10/site-packages (from aiohttp<4.0.0,>=3.8.3->langchain-community) (0.4.1)\n",
      "Requirement already satisfied: async-timeout<6.0,>=4.0 in /Users/kimdonghyeon/.pyenv/versions/3.10.12/envs/rng-venv/lib/python3.10/site-packages (from aiohttp<4.0.0,>=3.8.3->langchain-community) (4.0.3)\n",
      "Requirement already satisfied: frozenlist>=1.1.1 in /Users/kimdonghyeon/.pyenv/versions/3.10.12/envs/rng-venv/lib/python3.10/site-packages (from aiohttp<4.0.0,>=3.8.3->langchain-community) (1.8.0)\n",
      "Requirement already satisfied: aiosignal>=1.4.0 in /Users/kimdonghyeon/.pyenv/versions/3.10.12/envs/rng-venv/lib/python3.10/site-packages (from aiohttp<4.0.0,>=3.8.3->langchain-community) (1.4.0)\n",
      "Requirement already satisfied: marshmallow<4.0.0,>=3.18.0 in /Users/kimdonghyeon/.pyenv/versions/3.10.12/envs/rng-venv/lib/python3.10/site-packages (from dataclasses-json<0.7.0,>=0.6.7->langchain-community) (3.26.1)\n",
      "Requirement already satisfied: typing-inspect<1,>=0.4.0 in /Users/kimdonghyeon/.pyenv/versions/3.10.12/envs/rng-venv/lib/python3.10/site-packages (from dataclasses-json<0.7.0,>=0.6.7->langchain-community) (0.9.0)\n",
      "Requirement already satisfied: langchain-text-splitters<2.0.0,>=1.0.0 in /Users/kimdonghyeon/.pyenv/versions/3.10.12/envs/rng-venv/lib/python3.10/site-packages (from langchain-classic<2.0.0,>=1.0.0->langchain-community) (1.0.0)\n",
      "Requirement already satisfied: pydantic<3.0.0,>=2.7.4 in /Users/kimdonghyeon/.pyenv/versions/3.10.12/envs/rng-venv/lib/python3.10/site-packages (from langchain-classic<2.0.0,>=1.0.0->langchain-community) (2.12.3)\n",
      "Requirement already satisfied: jsonpatch<2.0.0,>=1.33.0 in /Users/kimdonghyeon/.pyenv/versions/3.10.12/envs/rng-venv/lib/python3.10/site-packages (from langchain-core<2.0.0,>=1.0.0->langchain-community) (1.33)\n",
      "Requirement already satisfied: typing-extensions<5.0.0,>=4.7.0 in /Users/kimdonghyeon/.pyenv/versions/3.10.12/envs/rng-venv/lib/python3.10/site-packages (from langchain-core<2.0.0,>=1.0.0->langchain-community) (4.15.0)\n",
      "Requirement already satisfied: packaging<26.0.0,>=23.2.0 in /Users/kimdonghyeon/.pyenv/versions/3.10.12/envs/rng-venv/lib/python3.10/site-packages (from langchain-core<2.0.0,>=1.0.0->langchain-community) (25.0)\n",
      "Requirement already satisfied: zstandard>=0.23.0 in /Users/kimdonghyeon/.pyenv/versions/3.10.12/envs/rng-venv/lib/python3.10/site-packages (from langsmith<1.0.0,>=0.1.125->langchain-community) (0.25.0)\n",
      "Requirement already satisfied: httpx<1,>=0.23.0 in /Users/kimdonghyeon/.pyenv/versions/3.10.12/envs/rng-venv/lib/python3.10/site-packages (from langsmith<1.0.0,>=0.1.125->langchain-community) (0.28.1)\n",
      "Requirement already satisfied: orjson>=3.9.14 in /Users/kimdonghyeon/.pyenv/versions/3.10.12/envs/rng-venv/lib/python3.10/site-packages (from langsmith<1.0.0,>=0.1.125->langchain-community) (3.11.3)\n",
      "Requirement already satisfied: requests-toolbelt>=1.0.0 in /Users/kimdonghyeon/.pyenv/versions/3.10.12/envs/rng-venv/lib/python3.10/site-packages (from langsmith<1.0.0,>=0.1.125->langchain-community) (1.0.0)\n",
      "Requirement already satisfied: typing-inspection>=0.4.0 in /Users/kimdonghyeon/.pyenv/versions/3.10.12/envs/rng-venv/lib/python3.10/site-packages (from pydantic-settings<3.0.0,>=2.10.1->langchain-community) (0.4.2)\n",
      "Requirement already satisfied: python-dotenv>=0.21.0 in /Users/kimdonghyeon/.pyenv/versions/3.10.12/envs/rng-venv/lib/python3.10/site-packages (from pydantic-settings<3.0.0,>=2.10.1->langchain-community) (1.1.1)\n",
      "Requirement already satisfied: charset_normalizer<4,>=2 in /Users/kimdonghyeon/.pyenv/versions/3.10.12/envs/rng-venv/lib/python3.10/site-packages (from requests<3.0.0,>=2.32.5->langchain-community) (3.4.4)\n",
      "Requirement already satisfied: certifi>=2017.4.17 in /Users/kimdonghyeon/.pyenv/versions/3.10.12/envs/rng-venv/lib/python3.10/site-packages (from requests<3.0.0,>=2.32.5->langchain-community) (2025.10.5)\n",
      "Requirement already satisfied: urllib3<3,>=1.21.1 in /Users/kimdonghyeon/.pyenv/versions/3.10.12/envs/rng-venv/lib/python3.10/site-packages (from requests<3.0.0,>=2.32.5->langchain-community) (2.5.0)\n",
      "Requirement already satisfied: idna<4,>=2.5 in /Users/kimdonghyeon/.pyenv/versions/3.10.12/envs/rng-venv/lib/python3.10/site-packages (from requests<3.0.0,>=2.32.5->langchain-community) (3.11)\n",
      "Requirement already satisfied: httpcore==1.* in /Users/kimdonghyeon/.pyenv/versions/3.10.12/envs/rng-venv/lib/python3.10/site-packages (from httpx<1,>=0.23.0->langsmith<1.0.0,>=0.1.125->langchain-community) (1.0.9)\n",
      "Requirement already satisfied: anyio in /Users/kimdonghyeon/.pyenv/versions/3.10.12/envs/rng-venv/lib/python3.10/site-packages (from httpx<1,>=0.23.0->langsmith<1.0.0,>=0.1.125->langchain-community) (4.11.0)\n",
      "Requirement already satisfied: h11>=0.16 in /Users/kimdonghyeon/.pyenv/versions/3.10.12/envs/rng-venv/lib/python3.10/site-packages (from httpcore==1.*->httpx<1,>=0.23.0->langsmith<1.0.0,>=0.1.125->langchain-community) (0.16.0)\n",
      "Requirement already satisfied: jsonpointer>=1.9 in /Users/kimdonghyeon/.pyenv/versions/3.10.12/envs/rng-venv/lib/python3.10/site-packages (from jsonpatch<2.0.0,>=1.33.0->langchain-core<2.0.0,>=1.0.0->langchain-community) (3.0.0)\n",
      "Requirement already satisfied: annotated-types>=0.6.0 in /Users/kimdonghyeon/.pyenv/versions/3.10.12/envs/rng-venv/lib/python3.10/site-packages (from pydantic<3.0.0,>=2.7.4->langchain-classic<2.0.0,>=1.0.0->langchain-community) (0.7.0)\n",
      "Requirement already satisfied: pydantic-core==2.41.4 in /Users/kimdonghyeon/.pyenv/versions/3.10.12/envs/rng-venv/lib/python3.10/site-packages (from pydantic<3.0.0,>=2.7.4->langchain-classic<2.0.0,>=1.0.0->langchain-community) (2.41.4)\n",
      "Requirement already satisfied: mypy-extensions>=0.3.0 in /Users/kimdonghyeon/.pyenv/versions/3.10.12/envs/rng-venv/lib/python3.10/site-packages (from typing-inspect<1,>=0.4.0->dataclasses-json<0.7.0,>=0.6.7->langchain-community) (1.1.0)\n",
      "Requirement already satisfied: sniffio>=1.1 in /Users/kimdonghyeon/.pyenv/versions/3.10.12/envs/rng-venv/lib/python3.10/site-packages (from anyio->httpx<1,>=0.23.0->langsmith<1.0.0,>=0.1.125->langchain-community) (1.3.1)\n",
      "Requirement already satisfied: exceptiongroup>=1.0.2 in /Users/kimdonghyeon/.pyenv/versions/3.10.12/envs/rng-venv/lib/python3.10/site-packages (from anyio->httpx<1,>=0.23.0->langsmith<1.0.0,>=0.1.125->langchain-community) (1.3.0)\n",
      "\n",
      "\u001b[1m[\u001b[0m\u001b[34;49mnotice\u001b[0m\u001b[1;39;49m]\u001b[0m\u001b[39;49m A new release of pip is available: \u001b[0m\u001b[31;49m23.0.1\u001b[0m\u001b[39;49m -> \u001b[0m\u001b[32;49m25.2\u001b[0m\n",
      "\u001b[1m[\u001b[0m\u001b[34;49mnotice\u001b[0m\u001b[1;39;49m]\u001b[0m\u001b[39;49m To update, run: \u001b[0m\u001b[32;49mpip install --upgrade pip\u001b[0m\n",
      "Note: you may need to restart the kernel to use updated packages.\n"
     ]
    }
   ],
   "source": [
    "%pip install langchain-community\n",
    "\n",
    "# ollama pull gemma3:4b"
   ]
  },
  {
   "cell_type": "code",
   "execution_count": 7,
   "id": "23807beb",
   "metadata": {},
   "outputs": [],
   "source": [
    "from langchain_community.chat_models import ChatOllama\n",
    "import time\n",
    "\n",
    "llm = ChatOllama(model=\"gemma3:4b\")"
   ]
  },
  {
   "cell_type": "code",
   "execution_count": 14,
   "id": "d11c1429",
   "metadata": {},
   "outputs": [
    {
     "data": {
      "text/plain": [
       "'인프런(Inflearn)은 다양한 주제에 대한 온라인 강의를 제공하는 플랫폼입니다. 주요 강의 분야는 다음과 같습니다:\\n\\n1. **프로그래밍**: Python, Java, JavaScript, C++, 데이터베이스 등.\\n2. **웹 개발**: HTML, CSS, React, Vue.js, Node.js 등.\\n3. **모바일 개발**: iOS, 안드로이드 앱 개발 관련 강의.\\n4. **데이터 분석 및 데이터 과학**: 데이터 시각화, 머신러닝, R, Pandas 등.\\n5. **UI/UX 디자인**: 디자인 원칙, 사용자 경험 설계, 도구 사용법.\\n6. **클라우드 및 DevOps**: AWS, Azure, Docker, CI/CD 등.\\n7. **게임 개발**: Unity, Unreal Engine 등의 게임 개발 강의.\\n8. **디지털 마케팅**: SEO, 소셜 미디어 마케팅, 콘텐츠 마케팅 등.\\n\\n각 분야에서 초급부터 고급 과정까지 다양한 강의가 제공되므로, 본인의 수준이나 필요에 맞는 강의를 선택할 수 있습니다. 구체적인 강의 목록은 인프런 웹사이트를 통해 확인할 수 있습니다.'"
      ]
     },
     "execution_count": 14,
     "metadata": {},
     "output_type": "execute_result"
    }
   ],
   "source": [
    "ai_essage = llm.invoke(\"인프런에 어떤 강의가 있나요??\")\n",
    "ai_essage.content"
   ]
  },
  {
   "cell_type": "code",
   "execution_count": 12,
   "id": "6261646d",
   "metadata": {},
   "outputs": [
    {
     "name": "stdout",
     "output_type": "stream",
     "text": [
      "응답 내용: 인프런에는 다양한 분야의 강의가 정말 많습니다! 어떤 분야에 관심 있으신가요? \n",
      "\n",
      "**인기 있는 분야별 강의 몇 가지를 소개해 드릴게요:**\n",
      "\n",
      "**1. 개발자:**\n",
      "\n",
      "*   **파이썬:**\n",
      "    *   **무료 강의:** 파이썬 기초 강의, 파이썬 스크립팅, 파이썬 데이터 분석, 파이썬 웹 개발\n",
      "    *   **유료 강의:** 파이썬 머신러닝, Django, Flask, Spring Boot 등\n",
      "*   **자바:**\n",
      "    *   **무료 강의:** 자바 기초 강의, 자바 웹 개발\n",
      "    *   **유료 강의:** Spring Boot, Spring MVC, 자바 엔터프라이즈 개발\n",
      "*   **JavaScript:**\n",
      "    *   **무료 강의:** JavaScript 기초 강의, React, Vue.js, Node.js\n",
      "*   **C/C++:**\n",
      "    *   **무료 강의:** C/C++ 기초 강의, C++ 프로그래밍\n",
      "*   **SQL:**\n",
      "    *   **무료 강의:** SQL 기초 강의, 데이터베이스 설계\n",
      "*   **클라우드:**\n",
      "    *   **무료 강의:** AWS, Azure, GCP 기본 강의\n",
      "    *   **유료 강의:** AWS, Azure, GCP 실전 강의\n",
      "\n",
      "**2. 디자인:**\n",
      "\n",
      "*   **포토샵:** 포토샵 기초, 포토샵 실전 강좌\n",
      "*   **일러스트레이터:** 일러스트레이터 기초, 일러스트레이터 실전 강좌\n",
      "*   **포토샵 + 일러스트레이터:** 함께 활용하는 강좌\n",
      "\n",
      "**3. 마케팅/영업:**\n",
      "\n",
      "*   **마케팅:** 디지털 마케팅, 콘텐츠 마케팅, 소셜 미디어 마케팅, SEO\n",
      "*   **영업:** 영업 전략, 전화 영업, 고객 관리\n",
      "\n",
      "**4. IT/경영:**\n",
      "\n",
      "*   **엑셀:** 엑셀 기초, 엑셀 고급, 엑셀 데이터 분석\n",
      "**   **데이터 분석:** 데이터 분석 기초, 데이터 시각화, 엑셀 데이터 분석\n",
      "*   **프로젝트 관리:** 프로젝트 관리 방법론, 애자일 방법론\n",
      "*   **IT/경영 전반:** 클라우드 컴퓨팅, 정보 보안, 리더십 등\n",
      "\n",
      "**5. 기타:**\n",
      "\n",
      "*   **리눅스:** 리눅스 기초, 리눅스 실전 강좌\n",
      "*   **인공지능:** 머신러닝, 딥러닝, AI 기초\n",
      "\n",
      "**인프런 강의 검색 방법:**\n",
      "\n",
      "1.  **인프런 웹사이트 ([https://www.infrun.kr/](https://www.infrun.kr/))** 에 접속합니다.\n",
      "2.  **[강의 검색](https://www.infrun.kr/search?keyword=&category=1)** 버튼을 클릭합니다.\n",
      "3.  **검색어** 를 입력하거나 **카테고리** 를 선택하여 원하는 강의를 검색할 수 있습니다.\n",
      "\n",
      "**팁:**\n",
      "\n",
      "*   **무료 강의** 와 **유료 강의** 를 비교해 보세요.\n",
      "*   **평점** 이 높고 **후기** 가 좋은 강의를 선택하는 것이 좋습니다.\n",
      "*   **강사** 의 경력과 전문성을 확인해 보세요.\n",
      "\n",
      "궁금한 분야나 관심 있는 기술이 있다면 더 자세하게 알려드릴 수 있습니다. 어떤 분야에 관심 있으신가요?\n",
      "⏱ 실행 시간: 11.88초\n"
     ]
    }
   ],
   "source": [
    "import time\n",
    "from langchain_community.chat_models import ChatOllama\n",
    "\n",
    "# 모델 초기화\n",
    "llm = ChatOllama(model=\"gemma3:4b\")\n",
    "\n",
    "# 시간 측정 시작\n",
    "start_time = time.time()\n",
    "\n",
    "# 모델 호출\n",
    "ai_message = llm.invoke(\"인프런에 어떤 강의가 있나요??\")\n",
    "\n",
    "# 시간 측정 종료\n",
    "end_time = time.time()\n",
    "\n",
    "# 결과 출력\n",
    "print(\"응답 내용:\", ai_message.content)\n",
    "print(f\"⏱ 실행 시간: {end_time - start_time:.2f}초\")\n"
   ]
  },
  {
   "cell_type": "code",
   "execution_count": 13,
   "id": "b7852e0c",
   "metadata": {},
   "outputs": [
    {
     "name": "stdout",
     "output_type": "stream",
     "text": [
      "API Key loaded: True\n",
      "응답 내용: 인프런(In프런)은 다양한 주제의 온라인 강의를 제공하는 플랫폼으로, 주로 IT, 프로그래밍, 데이터 과학, 웹 개발, 모바일 앱 개발, 디자인, 마케팅 등과 관련된 강의가 많습니다. 구체적인 강의 목록은 수시로 업데이트되기 때문에, 최신 강의를 확인하려면 인프런 공식 웹사이트를 방문하는 것이 가장 좋습니다.\n",
      "\n",
      "일반적으로 인프런에서 찾을 수 있는 강의 유형은 다음과 같습니다:\n",
      "\n",
      "1. **프로그래밍 언어**: Python, Java, JavaScript, C#, Ruby 등\n",
      "2. **웹 개발**: HTML, CSS, React, Vue.js, Node.js 등\n",
      "3. **데이터 과학**: 데이터 분석, 머신러닝, 인공지능 등\n",
      "4. **모바일 앱 개발**: 안드로이드, iOS 개발\n",
      "5. **디자인**: UI/UX 디자인, 그래픽 디자인\n",
      "6. **마케팅**: 디지털 마케팅, SEO, 소셜 미디어 마케팅\n",
      "\n",
      "특정 강의나 주제에 대해 궁금하신 점이 있다면, 더 구체적으로 말씀해 주시면 도움이 되는 정보를 제공해 드리겠습니다!\n",
      "⏱ 실행 시간: 4.06초\n"
     ]
    }
   ],
   "source": [
    "from dotenv import load_dotenv\n",
    "import os\n",
    "import time\n",
    "from langchain_openai import ChatOpenAI\n",
    "\n",
    "# 1. .env에서 API 키 로드\n",
    "load_dotenv(dotenv_path=\".env\")\n",
    "api_key = os.getenv(\"OPENAI_API_KEY\")\n",
    "print(\"API Key loaded:\", api_key is not None)\n",
    "\n",
    "# 2. GPT 모델 초기화 (기본값은 gpt-4o-mini)\n",
    "llm = ChatOpenAI(\n",
    "    api_key=api_key,\n",
    "    model=\"gpt-4o-mini\"   # 원하시면 gpt-4 또는 gpt-4o 로 변경 가능\n",
    ")\n",
    "\n",
    "# 3. 시간 측정 시작\n",
    "start_time = time.time()\n",
    "\n",
    "# 4. 모델 호출+\n",
    "ai_message = llm.invoke(\"인프런에 어떤 강의가 있나요?\")\n",
    "\n",
    "# 5. 시간 측정 종료\n",
    "end_time = time.time()\n",
    "\n",
    "# 6. 결과 출력\n",
    "print(\"응답 내용:\", ai_message.content)\n",
    "print(f\"⏱ 실행 시간: {end_time - start_time:.2f}초\")\n"
   ]
  },
  {
   "cell_type": "code",
   "execution_count": null,
   "id": "73371ec4",
   "metadata": {},
   "outputs": [],
   "source": []
  }
 ],
 "metadata": {
  "kernelspec": {
   "display_name": "rng-venv",
   "language": "python",
   "name": "python3"
  },
  "language_info": {
   "codemirror_mode": {
    "name": "ipython",
    "version": 3
   },
   "file_extension": ".py",
   "mimetype": "text/x-python",
   "name": "python",
   "nbconvert_exporter": "python",
   "pygments_lexer": "ipython3",
   "version": "3.10.12"
  }
 },
 "nbformat": 4,
 "nbformat_minor": 5
}
